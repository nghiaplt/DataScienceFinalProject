{
 "cells": [
  {
   "cell_type": "code",
   "execution_count": 231,
   "metadata": {},
   "outputs": [],
   "source": [
    "import numpy as np\n",
    "import pandas as pd\n",
    "from sklearn.model_selection import train_test_split\n",
    "from sklearn.pipeline import Pipeline\n",
    "from sklearn.linear_model import SGDClassifier\n",
    "from sklearn import metrics\n",
    "from sklearn.base import BaseEstimator, TransformerMixin\n",
    "from sklearn.neural_network import MLPClassifier\n",
    "from sklearn.preprocessing import OneHotEncoder\n",
    "\n",
    "%matplotlib inline"
   ]
  },
  {
   "cell_type": "code",
   "execution_count": 2,
   "metadata": {},
   "outputs": [],
   "source": [
    "def read_glove_vecs(glove_file):\n",
    "    with open(glove_file, 'r', encoding=\"utf8\") as f:\n",
    "        words = set()\n",
    "        word_to_vec_map = {}\n",
    "        \n",
    "        for line in f:\n",
    "            line = line.strip().split()\n",
    "            curr_word = line[0]\n",
    "            words.add(curr_word)\n",
    "            word_to_vec_map[curr_word] = np.array(line[1:], dtype=np.float64)\n",
    "            \n",
    "    return words, word_to_vec_map"
   ]
  },
  {
   "cell_type": "code",
   "execution_count": 3,
   "metadata": {},
   "outputs": [],
   "source": [
    "words, word_to_vec_map = read_glove_vecs('./glove.6B.50d.txt')"
   ]
  },
  {
   "cell_type": "code",
   "execution_count": 273,
   "metadata": {},
   "outputs": [
    {
     "name": "stdout",
     "output_type": "stream",
     "text": [
      "<class 'pandas.core.frame.DataFrame'>\n",
      "RangeIndex: 12742 entries, 0 to 12741\n",
      "Data columns (total 2 columns):\n",
      "0    12742 non-null object\n",
      "1    12742 non-null int64\n",
      "dtypes: int64(1), object(1)\n",
      "memory usage: 199.2+ KB\n"
     ]
    }
   ],
   "source": [
    "df = pd.read_csv('./final_new.csv')\n",
    "\n",
    "df.info()"
   ]
  },
  {
   "cell_type": "code",
   "execution_count": 274,
   "metadata": {},
   "outputs": [
    {
     "data": {
      "text/plain": [
       "<matplotlib.axes._subplots.AxesSubplot at 0x1a276a74948>"
      ]
     },
     "execution_count": 274,
     "metadata": {},
     "output_type": "execute_result"
    },
    {
     "data": {
      "image/png": "[encoded data removed]",
      "text/plain": [
       "<Figure size 576x360 with 1 Axes>"
      ]
     },
     "metadata": {
      "needs_background": "light"
     },
     "output_type": "display_data"
    }
   ],
   "source": [
    "mapping = {\n",
    "    3: 'Sad',\n",
    "    0: 'Neutral',\n",
    "    1: 'Happy',\n",
    "    2: 'Angry'\n",
    "}\n",
    "\n",
    "def mappingToEmotion(value):\n",
    "    return mapping[value]\n",
    "\n",
    "\n",
    "df_count = pd.DataFrame()\n",
    "# df_count['label'] = df['1'].unique()\n",
    "df_count['counts'] = df['1'].value_counts()\n",
    "df_count['category'] = df_count['counts'].index\n",
    "df_count['category'] = df_count['category'].apply(mappingToEmotion)\n",
    "\n",
    "df_count.plot(x='category', y='counts', kind='bar', legend=False, grid=True, figsize=(8, 5))"
   ]
  },
  {
   "cell_type": "code",
   "execution_count": 31,
   "metadata": {},
   "outputs": [
    {
     "name": "stdout",
     "output_type": "stream",
     "text": [
      "(8919,)\n",
      "(8919,)\n",
      "[2 1 3 0]\n",
      "3    2713\n",
      "0    2389\n",
      "1    2103\n",
      "2    1714\n",
      "Name: 1, dtype: int64\n"
     ]
    }
   ],
   "source": [
    "X = df['0']\n",
    "y = df['1']\n",
    "\n",
    "X_train, X_test, y_train, y_test = train_test_split(\n",
    "    X, y, test_size=0.3, random_state=1, shuffle=True)\n",
    "\n",
    "print(X_train.shape)\n",
    "print(y_train.shape)\n",
    "print(y_train.unique())\n",
    "print(y_train.value_counts())"
   ]
  },
  {
   "cell_type": "code",
   "execution_count": 87,
   "metadata": {},
   "outputs": [],
   "source": [
    "def avg_vec(sentence):\n",
    "    words = sentence.lower().split()\n",
    "    avg = np.zeros((50,0))\n",
    "    total = 0\n",
    "    \n",
    "    for word in words:\n",
    "        try:\n",
    "            vec = word_to_vec_map[word]\n",
    "        except:\n",
    "            vec = word_to_vec_map['unk']\n",
    "            \n",
    "        total += vec\n",
    "        \n",
    "    avg = total/len(words)\n",
    "    return avg\n",
    "\n",
    "def check_word(sentence):\n",
    "    words = sentence.lower().split()\n",
    "    \n",
    "    for word in words:\n",
    "        try:\n",
    "            vec = word_to_vec_map[word]\n",
    "        except:\n",
    "            print(word)"
   ]
  },
  {
   "cell_type": "code",
   "execution_count": 185,
   "metadata": {},
   "outputs": [],
   "source": [
    "class AverageSentence(BaseEstimator, TransformerMixin):\n",
    "    def fit(self, X, y=None):\n",
    "        return self\n",
    "    \n",
    "    def transform(self, X, y=None):\n",
    "        array = np.zeros((X.shape[0], 50))\n",
    "        values = X.apply(avg_vec).values\n",
    "        for i in range(X.shape[0]):\n",
    "            array[i] = values[i]\n",
    "        return array"
   ]
  },
  {
   "cell_type": "code",
   "execution_count": 209,
   "metadata": {},
   "outputs": [
    {
     "data": {
      "text/plain": [
       "Pipeline(memory=None,\n",
       "         steps=[('avg', AverageSentence()),\n",
       "                ('clf',\n",
       "                 MLPClassifier(activation='relu', alpha=1e-05,\n",
       "                               batch_size='auto', beta_1=0.9, beta_2=0.999,\n",
       "                               early_stopping=False, epsilon=1e-08,\n",
       "                               hidden_layer_sizes=(200, 20),\n",
       "                               learning_rate='constant',\n",
       "                               learning_rate_init=0.001, max_iter=200,\n",
       "                               momentum=0.9, n_iter_no_change=10,\n",
       "                               nesterovs_momentum=True, power_t=0.5,\n",
       "                               random_state=3, shuffle=True, solver='lbfgs',\n",
       "                               tol=0.0001, validation_fraction=0.1,\n",
       "                               verbose=False, warm_start=False))],\n",
       "         verbose=False)"
      ]
     },
     "execution_count": 209,
     "metadata": {},
     "output_type": "execute_result"
    }
   ],
   "source": [
    "SGD_clf = SGDClassifier(loss='log', penalty='l2',\n",
    "                          alpha=1e-4, random_state=0,\n",
    "                          max_iter=500, tol=None)\n",
    "clf = MLPClassifier(solver='lbfgs', alpha=1e-5,\n",
    "                     hidden_layer_sizes=(200, 20), random_state=3)\n",
    "text_clf = Pipeline([\n",
    "    ('avg', AverageSentence()),\n",
    "    ('clf', clf),\n",
    "])\n",
    "\n",
    "text_clf.fit(X_train, y_train)"
   ]
  },
  {
   "cell_type": "code",
   "execution_count": 212,
   "metadata": {},
   "outputs": [
    {
     "data": {
      "text/plain": [
       "0.6592667339387823"
      ]
     },
     "execution_count": 212,
     "metadata": {},
     "output_type": "execute_result"
    }
   ],
   "source": [
    "predicted = text_clf.predict(X_train)\n",
    "np.mean(predicted == y_train)"
   ]
  }
 ],
 "metadata": {
  "kernelspec": {
   "display_name": "Python 3",
   "language": "python",
   "name": "python3"
  },
  "language_info": {
   "codemirror_mode": {
    "name": "ipython",
    "version": 3
   },
   "file_extension": ".py",
   "mimetype": "text/x-python",
   "name": "python",
   "nbconvert_exporter": "python",
   "pygments_lexer": "ipython3",
   "version": "3.7.4"
  }
 },
 "nbformat": 4,
 "nbformat_minor": 2
}
