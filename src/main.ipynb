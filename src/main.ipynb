{
 "cells": [
  {
   "cell_type": "markdown",
   "metadata": {},
   "source": [
    "# Text To Emotion\n",
    "\n",
    "### Bài toán\n",
    "- Phân loại văn bản theo 4 loại cảm xúc cơ bản (neutral, happy, angry, sad).\n",
    "\n",
    "### Mục tiêu\n",
    "- Tìm hiểu được cách crawl văn bản từ Google API.\n",
    "- Tìm hiểu được cách preprocessing văn bản.\n",
    "- Tìm hiểu được các cách biến đổi từ văn bản thành vector.\n",
    "- Tìm hiểu được và xây dựng một nền tảng để có thể phân loại được cảm xúc khi nhập vào một đoạn văn bản.\n",
    "- Tìm hiểu thêm được framework keras cũng như các hướng tiếp cận khác của bài toán.\n",
    "\n",
    "### Ứng dụng (Nguồn cảm hứng)\n",
    "- Hiểu được cảm xúc của người dùng thông qua các dòng bình luận, nhận xét, đánh giá.\n",
    "- Từ đó, có thể ứng dụng vào phân loại các cảm xúc của các comment từ đó rút ra thống kê, có thể ứng dụng vào trong các ứng dụng như: phân loại comment đánh giá sản phẩm (e-commerce), phân loại comment đánh giá trên facebook post, xếp loại video youtube bằng cách phân loại comment.\n",
    "- Ứng dụng để gợi ý emoji trong các loại ứng dụng chat.\n",
    "\n",
    "### Crawl dữ liệu\n",
    "#### API\n",
    "- Sử dụng GoogleAPIs crawl comment từ các video youtube, mỗi url video đa số chứa những comment thuộc cùng một nhóm. Ví dụ: video về nền công nghiệp gà, bò, hay chiến tranh thì đa số là angry, cũng có sad, các video âm nhạc giải trí mang tính thư giãn thì happy, những video của các vlogger thì đa phần là hỗn tạp vì có người thích và có người ghét.\n",
    "    1. WjNFGZLJLss (angry)\n",
    "    2. 5xzGjW_MEms (sad)\n",
    "    3. nKDgFCojiT8 (sad)\n",
    "    4. hEH7KgQY380 (happy)\n",
    "    5. kIF3BYBXZWA (happy)\n",
    "    6. NvZtkt9973A (happy)\n",
    "    7. SuYwm-wBwBY (happy)\n",
    "    8. iqmO1RlqorU (happy)\n",
    "    9. 9ca8ThA83fE (happy)\n",
    "    10. V-RwqjtQmm8 (angry)\n",
    "    11. WuLZ9ZMA_FA (angry)\n",
    "    12. kopI4-ebPxQ (prank)\n",
    "    13. LEBtUTAf8uE (prank)\n",
    "    14. eBSr1oiIDuU (prank)\n",
    "    15. UYJl7z38V88 (prank)\n",
    "\n",
    "#### Thông tin dữ liệu crawl\n",
    "- Dữ liệu ở đây lên đến ~35k comment.\n",
    "- Thông tin dữ liệu crawl chỉ là những comment, reply, không có label.\n",
    "- Dẫn đến việc nhóm phải tự annotation lại dữ liệu bằng tay.\n",
    "\n",
    "#### Annotation\n",
    "- Nhóm có tự tạo file annotation.py để hỗ trợ việc annotate nhanh hơn và lưu lại cache để ghi nhớ những comment chưa annotate.\n",
    "- Dữ liệu sau khi nhóm tự annotate vào khoảng ~12k comment.\n",
    "- Các file dữ liệu dùng để anotate bao gồm:\n",
    "    - encoded_angry.txt\n",
    "    - encoded_happy.txt\n",
    "    - encoded_sad.txt\n",
    "    - encoded_prank.txt\n",
    "- Nhóm sử dụng file script anotate để tạo thuận tiện cho việc anotate hơn.\n",
    "- Kết quả sau khi anotate là các file:\n",
    "    - final_angry.csv\n",
    "    - final_happy.csv\n",
    "    - final_sad.csv\n",
    "    - final_prank.csv\n",
    "    \n",
    "#### Resources\n",
    "- Glove Vect: https://www.kaggle.com/watts2/glove6b50dtxt\n",
    "- Stop words in Natural Language Toolkit: https://www.nltk.org/data.html \n",
    "- Crawl Data: https://youtube.com"
   ]
  },
  {
   "cell_type": "code",
   "execution_count": 1,
   "metadata": {},
   "outputs": [],
   "source": [
    "from time import time\n",
    "import string\n",
    "import os\n",
    "from pprint import pprint\n",
    "\n",
    "from sklearn.model_selection import train_test_split\n",
    "from sklearn.feature_extraction.text import CountVectorizer\n",
    "from sklearn.feature_extraction.text import TfidfVectorizer\n",
    "from sklearn.feature_extraction.text import TfidfTransformer\n",
    "from sklearn.pipeline import Pipeline\n",
    "from sklearn.base import BaseEstimator, TransformerMixin\n",
    "from sklearn.compose import ColumnTransformer, make_column_transformer\n",
    "from sklearn.metrics import classification_report\n",
    "from sklearn.pipeline import Pipeline, FeatureUnion, make_pipeline\n",
    "from sklearn.preprocessing import FunctionTransformer\n",
    "from sklearn.model_selection import GridSearchCV\n",
    "\n",
    "from sklearn.naive_bayes import MultinomialNB\n",
    "from sklearn.linear_model import LogisticRegression\n",
    "from sklearn.linear_model import SGDClassifier\n",
    "from sklearn.neural_network import MLPClassifier\n",
    "\n",
    "import codecs\n",
    "import json\n",
    "import re\n",
    "import collections\n",
    "import heapq\n",
    "import pandas as pd\n",
    "import numpy as np\n",
    "\n",
    "from nltk.corpus import stopwords\n",
    "\n",
    "import matplotlib.pyplot as plt\n",
    "import seaborn as sns\n",
    "sns.set(style=\"darkgrid\")\n",
    "sns.set(font_scale=1.3)\n",
    "\n",
    "%matplotlib inline"
   ]
  },
  {
   "cell_type": "code",
   "execution_count": 2,
   "metadata": {},
   "outputs": [],
   "source": [
    "f = codecs.open(\"./glove.6B.50d.txt\",\"r\",\"utf-8\")\n",
    "lines = f.readlines()\n",
    "words = [x.split(' ')[0] for x in lines]\n",
    "glove_dict = {}\n",
    "for word in words:\n",
    "    glove_dict[word] = word\n",
    "f.close()\n",
    "# Mở file đang làm dang dở trước đó (nếu có)\n",
    "glove_dict.update(json.loads(open('dictionary.txt', \"r\").read()))"
   ]
  },
  {
   "cell_type": "markdown",
   "metadata": {},
   "source": [
    "- Đầu tiên ta sẽ đọc data đã crawl từ 4 file *final_happy.csv*, *final_angry.csv*, *final_sad.csv*, *final_prank.csv*\n",
    "- Vì đọc các file theo thứ tự nên data sẽ theo được sort theo trình tự happy -> angry -> sad -> prank. Nên ta sẽ shuffle lại data bằng hàm `df.reindex` kết hợp với `np.random.permutation`.\n",
    "- Tiếp tục ta sẽ đổi header cho dễ đọc, dễ xử lý."
   ]
  },
  {
   "cell_type": "code",
   "execution_count": 3,
   "metadata": {},
   "outputs": [
    {
     "name": "stdout",
     "output_type": "stream",
     "text": [
      "<class 'pandas.core.frame.DataFrame'>\n",
      "RangeIndex: 12864 entries, 0 to 12863\n",
      "Data columns (total 2 columns):\n",
      "0    12864 non-null object\n",
      "1    12864 non-null int64\n",
      "dtypes: int64(1), object(1)\n",
      "memory usage: 201.1+ KB\n"
     ]
    }
   ],
   "source": [
    "# Load các file csv vào thành 1 DataFrame\n",
    "happy_train = pd.read_csv('../CrawlComment/final_happy.csv', sep='\\t', header=None)\n",
    "angry_train = pd.read_csv('../CrawlComment/final_angry.csv', sep='\\t', header=None)\n",
    "sad_train = pd.read_csv('../CrawlComment/final_sad.csv', sep='\\t', header=None)\n",
    "prank_train = pd.read_csv('../CrawlComment/final_prank.csv', sep='\\t', header=None)\n",
    "frames = [happy_train, angry_train, sad_train, prank_train]\n",
    "df = pd.concat(frames, ignore_index=True)\n",
    "df.info()\n",
    "\n",
    "# Dòng này shuffle lại dữ liệu, khiến cho mỗi lần chạy lại sẽ không ra cùng một kết quả\n",
    "df = df.reindex(np.random.permutation(df.index))\n",
    "df = df.rename(columns={0: \"text\", 1: \"emotion\"})"
   ]
  },
  {
   "cell_type": "markdown",
   "metadata": {},
   "source": [
    "## 1. Observation and Preprocessing data"
   ]
  },
  {
   "cell_type": "markdown",
   "metadata": {},
   "source": [
    "- Để biết được phân phối của dataset có đều nhau hay không hay nói cách khác là số lượng các emotion có đều nhau hay không, ta sẽ plot và sinh ra thêm một cột là emotion_label để visualize.\n",
    "- Kết quả cho thấy Sad có số lượng lớn nhất, sau đó đến Neutral, Happy và cuối cùng là Angry.\n",
    "\n",
    "| Emotion      | Emotion Label |\n",
    "| :------------: | :-------------: |\n",
    "| 0            | Neutral       |\n",
    "| 1            | Happy         |\n",
    "| 2            | Angry         |\n",
    "| 3            | Sad           |"
   ]
  },
  {
   "cell_type": "code",
   "execution_count": 4,
   "metadata": {},
   "outputs": [
    {
     "data": {
      "image/png": "[encoded data removed]",
      "text/plain": [
       "<Figure size 345.6x288 with 1 Axes>"
      ]
     },
     "metadata": {
      "needs_background": "light"
     },
     "output_type": "display_data"
    }
   ],
   "source": [
    "mapping = {\n",
    "    3: 'Sad',\n",
    "    0: 'Neutral',\n",
    "    1: 'Happy',\n",
    "    2: 'Angry'\n",
    "}\n",
    "\n",
    "def mappingToEmotion(value):\n",
    "    return mapping[value]\n",
    "\n",
    "df['emotion_label'] = df['emotion'].apply(mappingToEmotion) \n",
    "target_dist = sns.catplot(x=\"emotion_label\", data=df, kind=\"count\", height=4, aspect=1.2)\n",
    "plt.show();"
   ]
  },
  {
   "cell_type": "markdown",
   "metadata": {},
   "source": [
    "Ta xây dựng một lớp `Counting` để rút ra các features từ các sentences:\n",
    "1. count_words: Số lượng từ trong một câu.\n",
    "2. count_capital: Số lượng từ mà viết hoa trong một câu.\n",
    "3. count_excl_quest: Số lượng dấu chấm hỏi và dấu chấm than.\n",
    "4. count_positive_emojis: Số lượng emojis tích cực.\n",
    "5. count_negative_emojis: Số lượng emojis tiêu cực."
   ]
  },
  {
   "cell_type": "code",
   "execution_count": 5,
   "metadata": {},
   "outputs": [],
   "source": [
    "class Counting(BaseEstimator, TransformerMixin):\n",
    "    \n",
    "    def count_regex(self, pattern, sentence):\n",
    "        return len(re.findall(pattern, sentence))\n",
    "    \n",
    "    def fit(self, X, y=None, **fit_params):\n",
    "        return self\n",
    "\n",
    "    def transform(self, X, **transform_params):\n",
    "        count_words = X['text'].apply(lambda x: self.count_regex(r'\\w+', x)) \n",
    "        count_capital = X['text'].apply(lambda x: self.count_regex(r'\\b[A-Z]{2,}\\b', x))\n",
    "        count_excl_quest = X['text'].apply(lambda x: self.count_regex(r'!|\\?', x))\n",
    "        count_positive_emojis = X['text'].apply(lambda x: self.count_regex(r'[:=x][)D]', x))\n",
    "        count_negative_emojis = X['text'].apply(lambda x: self.count_regex(r'[:]\\'?[(]', x))\n",
    "        \n",
    "        df = X.copy()\n",
    "        df['count_words'] = count_words\n",
    "        df['count_capital'] = count_capital\n",
    "        df['count_excl_quest'] = count_excl_quest\n",
    "        df['count_positive_emojis'] = count_positive_emojis\n",
    "        df['count_negative_emojis'] = count_negative_emojis\n",
    "        \n",
    "        return df"
   ]
  },
  {
   "cell_type": "code",
   "execution_count": 6,
   "metadata": {},
   "outputs": [],
   "source": [
    "tc = Counting()\n",
    "df_counts = tc.fit_transform(df)\n",
    "df_counts['emotion_label'] = df['emotion_label']\n",
    "df_counts['emotion'] = df['emotion']"
   ]
  },
  {
   "cell_type": "code",
   "execution_count": 7,
   "metadata": {},
   "outputs": [],
   "source": [
    "def plt_hist(df, col, max_bin=None):\n",
    "    if max_bin == None:\n",
    "        max_bin = df[col].max() + 1\n",
    "    print('Mô tả cho cột {}'.format(col))\n",
    "    print()\n",
    "    print(df.groupby('emotion_label')[col].describe())\n",
    "    bins = np.arange(df[col].min(), max_bin)\n",
    "    g = sns.FacetGrid(df, col='emotion_label', height=5, hue='emotion_label')\n",
    "    g = g.map(sns.distplot, col, kde=False, norm_hist=True, bins=bins)\n",
    "    plt.show()"
   ]
  },
  {
   "cell_type": "code",
   "execution_count": 8,
   "metadata": {},
   "outputs": [
    {
     "name": "stdout",
     "output_type": "stream",
     "text": [
      "Mô tả cho cột count_words\n",
      "\n",
      "                count       mean        std  min  25%  50%   75%    max\n",
      "emotion_label                                                          \n",
      "Angry          2502.0  13.331735  17.268034  0.0  5.0  8.0  15.0  272.0\n",
      "Happy          3128.0   9.584399  14.001390  0.0  3.0  6.0  11.0  372.0\n",
      "Neutral        3436.0  10.584109  15.369232  0.0  5.0  8.0  12.0  501.0\n",
      "Sad            3798.0  12.285677  16.344083  0.0  5.0  8.0  14.0  288.0\n"
     ]
    },
    {
     "data": {
      "image/png": "[encoded data removed]",
      "text/plain": [
       "<Figure size 1440x360 with 4 Axes>"
      ]
     },
     "metadata": {
      "needs_background": "light"
     },
     "output_type": "display_data"
    }
   ],
   "source": [
    "plt_hist(df_counts, col='count_words', max_bin=50)"
   ]
  },
  {
   "cell_type": "code",
   "execution_count": 9,
   "metadata": {},
   "outputs": [
    {
     "name": "stdout",
     "output_type": "stream",
     "text": [
      "Mô tả cho cột count_positive_emojis\n",
      "\n",
      "                count      mean       std  min  25%  50%  75%   max\n",
      "emotion_label                                                      \n",
      "Angry          2502.0  0.003197  0.056467  0.0  0.0  0.0  0.0   1.0\n",
      "Happy          3128.0  0.073210  0.351449  0.0  0.0  0.0  0.0  11.0\n",
      "Neutral        3436.0  0.004366  0.065937  0.0  0.0  0.0  0.0   1.0\n",
      "Sad            3798.0  0.003686  0.064809  0.0  0.0  0.0  0.0   2.0\n"
     ]
    },
    {
     "data": {
      "image/png": "[encoded data removed]",
      "text/plain": [
       "<Figure size 1440x360 with 4 Axes>"
      ]
     },
     "metadata": {
      "needs_background": "light"
     },
     "output_type": "display_data"
    }
   ],
   "source": [
    "plt_hist(df_counts, col='count_positive_emojis', max_bin=5)"
   ]
  },
  {
   "cell_type": "code",
   "execution_count": 10,
   "metadata": {},
   "outputs": [
    {
     "name": "stdout",
     "output_type": "stream",
     "text": [
      "Mô tả cho cột count_negative_emojis\n",
      "\n",
      "                count      mean       std  min  25%  50%  75%  max\n",
      "emotion_label                                                     \n",
      "Angry          2502.0  0.000799  0.028267  0.0  0.0  0.0  0.0  1.0\n",
      "Happy          3128.0  0.000320  0.017880  0.0  0.0  0.0  0.0  1.0\n",
      "Neutral        3436.0  0.000000  0.000000  0.0  0.0  0.0  0.0  0.0\n",
      "Sad            3798.0  0.017378  0.138517  0.0  0.0  0.0  0.0  3.0\n"
     ]
    },
    {
     "data": {
      "image/png": "[encoded data removed]",
      "text/plain": [
       "<Figure size 1440x360 with 4 Axes>"
      ]
     },
     "metadata": {
      "needs_background": "light"
     },
     "output_type": "display_data"
    }
   ],
   "source": [
    "plt_hist(df_counts, col='count_negative_emojis', max_bin=5)"
   ]
  },
  {
   "cell_type": "code",
   "execution_count": 11,
   "metadata": {},
   "outputs": [
    {
     "name": "stdout",
     "output_type": "stream",
     "text": [
      "Mô tả cho cột count_excl_quest\n",
      "\n",
      "                count      mean       std  min  25%  50%  75%   max\n",
      "emotion_label                                                      \n",
      "Angry          2502.0  0.578737  2.812265  0.0  0.0  0.0  0.0  82.0\n",
      "Happy          3128.0  0.510230  1.992123  0.0  0.0  0.0  0.0  64.0\n",
      "Neutral        3436.0  0.304715  0.913104  0.0  0.0  0.0  0.0  12.0\n",
      "Sad            3798.0  0.291732  1.125840  0.0  0.0  0.0  0.0  36.0\n"
     ]
    },
    {
     "data": {
      "image/png": "[encoded data removed]",
      "text/plain": [
       "<Figure size 1440x360 with 4 Axes>"
      ]
     },
     "metadata": {
      "needs_background": "light"
     },
     "output_type": "display_data"
    }
   ],
   "source": [
    "plt_hist(df_counts, col='count_excl_quest', max_bin=5)"
   ]
  },
  {
   "cell_type": "code",
   "execution_count": 12,
   "metadata": {},
   "outputs": [
    {
     "name": "stdout",
     "output_type": "stream",
     "text": [
      "Mô tả cho cột count_capital\n",
      "\n",
      "                count      mean       std  min  25%  50%  75%    max\n",
      "emotion_label                                                       \n",
      "Angry          2502.0  0.757394  4.060800  0.0  0.0  0.0  0.0  110.0\n",
      "Happy          3128.0  0.270460  1.530961  0.0  0.0  0.0  0.0   35.0\n",
      "Neutral        3436.0  0.336438  1.645697  0.0  0.0  0.0  0.0   40.0\n",
      "Sad            3798.0  0.406793  2.340993  0.0  0.0  0.0  0.0   97.0\n"
     ]
    },
    {
     "data": {
      "image/png": "[encoded data removed]",
      "text/plain": [
       "<Figure size 1440x360 with 4 Axes>"
      ]
     },
     "metadata": {
      "needs_background": "light"
     },
     "output_type": "display_data"
    }
   ],
   "source": [
    "plt_hist(df_counts, col='count_capital', max_bin=5)"
   ]
  },
  {
   "cell_type": "markdown",
   "metadata": {},
   "source": [
    "### Nhận xét\n",
    "- `count_words`: Ta có thể thấy, những câu angry thường có số lượng từ nhiều hơn.\n",
    "- `count_positive_emojis`: Đúng như nhóm dự đoán, những emoji tích cực sẽ tập trung ở label happy nhiều nhất, nhưng ở mỗi câu thì sẽ không chắc có emoji nên ở happy `mean` = 0.073\n",
    "- `count_negative_emojis`: Tương tự như positive emojis, negative emoji sẽ tập trung ở sad nhiều nhất, `mean` = 0.017\n",
    "- `count_excl_quest` và `count_capital`: Số lượng dấu chấm hỏi, dấu chấm than, và số lượng từ được in hoa sẽ xuất hiện nhiều nhất hơn emotion angry.\n",
    "\n",
    "Nhóm sẽ quyết định giữ lại 5 thuộc tính này cho việc prediction."
   ]
  },
  {
   "cell_type": "markdown",
   "metadata": {},
   "source": [
    "### Clean the sentence\n",
    "\n",
    "Sau khi có nhiều góc nhìn về dữ liệu và extract được 5 feature ở trên. Nhóm quyết định sử dụng tư tưởng Bag Of Word (BOW) để áp dụng vào field `text`. Nhưng với field `text` hiện tại có những bất cập:\n",
    "   - Kí tự đặc biệt, số,...\n",
    "   - Viết tắt: \"omg\", \"asap\", \"tbh\", ...\n",
    "   - Viết sai chính tả\n",
    "   - Viết nhảm (spam)\n",
    "   - Có tên người\n",
    "   - ...\n",
    "\n",
    "Các bước chuẩn bị dữ liệu:\n",
    "- Chuyển tất cả thành chữ thường\n",
    "- Chỉ giữa các kí tự, xóa các kí tự đặc biệt và số, xóa các dòng text là rỗng\n",
    "- Chuyển những từ sai chính tả thành những từ map với `glove_dict`, nếu từ đó không có trong `glove_dict`, nhóm sẽ nhập tay.\n",
    "- Xóa tất cả các stop words dựa vào thư viện `nltk.corpus`."
   ]
  },
  {
   "cell_type": "code",
   "execution_count": 13,
   "metadata": {},
   "outputs": [],
   "source": [
    "class MakeCleanText(BaseEstimator, TransformerMixin):\n",
    "    def normalize(self, x):\n",
    "        try:\n",
    "            x = x.lower().strip()\n",
    "        except:\n",
    "            return ''\n",
    "        ans = ''\n",
    "        for i in x:\n",
    "            if 'a' <= i <= 'z' or i == ' ':\n",
    "                ans += i\n",
    "        return ans\n",
    "    \n",
    "    def keep_clean(self, sentence):\n",
    "        sentence = sentence.strip()\n",
    "        return ' '.join(sentence.split())\n",
    "    \n",
    "    def only_keep_alphabets(self, sentence):\n",
    "        return self.normalize(sentence)\n",
    "    \n",
    "    def remove_spaces(self, sentence):\n",
    "        return self.keep_clean(sentence)\n",
    "    \n",
    "    def translate_unknow_word(self, sentence):\n",
    "        new_line = ''\n",
    "        for word in sentence.split():\n",
    "            if word not in glove_dict:\n",
    "                new_line += ' '\n",
    "#                 print(word)\n",
    "#                 glove_dict[word] = input(word + ' ')\n",
    "#                 open(\"dictionary.txt\", \"w\").write(json.dumps(glove_dict))\n",
    "            else:\n",
    "                new_line += ' ' + glove_dict[word]\n",
    "\n",
    "        return new_line\n",
    "    \n",
    "    def remove_stop_word(self, sentence):\n",
    "        stopwords_list = stopwords.words('english')\n",
    "        words = sentence.split()\n",
    "        keep_words = ['no']\n",
    "        clean_words = [word for word in words if (word not in stopwords_list or word in keep_words) and len(word) > 1]\n",
    "        return \" \".join(clean_words)\n",
    "    \n",
    "    def fit(self, X, y=None):\n",
    "        return self\n",
    "    \n",
    "    def transform(self, X, y=None):\n",
    "        X_new = X.copy()\n",
    "        \n",
    "        clean_texts = X_new['text'].apply(self.only_keep_alphabets).apply(self.translate_unknow_word).apply(self.only_keep_alphabets).apply(self.remove_spaces).apply(self.remove_stop_word)\n",
    "        \n",
    "        X_new['clean_text'] = clean_texts\n",
    "        \n",
    "        return X_new\n",
    "\n",
    "class FilterEmptyText(BaseEstimator, TransformerMixin):\n",
    "    def __init__(self):\n",
    "        pass\n",
    "    \n",
    "    def fit(self, X, y=None):\n",
    "        return self\n",
    "    \n",
    "    def transform(self, X, y=None):\n",
    "        return X.drop(X[X.clean_text == ''].index)"
   ]
  },
  {
   "cell_type": "markdown",
   "metadata": {},
   "source": [
    "Vì sau khi đã bỏ stop word nên sẽ có vài sentences không có từ nào trong câu. Trong pipeline nhóm đã thêm một class FilterEmptyText để lọc bỏ tất cả những câu rỗng. Sau đó transform dữ liệu và lưu trong field `clean_text` của df."
   ]
  },
  {
   "cell_type": "code",
   "execution_count": 14,
   "metadata": {},
   "outputs": [],
   "source": [
    "preprocess = Pipeline([\n",
    "    ('mkclean', MakeCleanText()),\n",
    "    ('rmempty', FilterEmptyText())\n",
    "])\n",
    "\n",
    "preprocess_df = preprocess.fit_transform(df)"
   ]
  },
  {
   "cell_type": "code",
   "execution_count": 15,
   "metadata": {},
   "outputs": [
    {
     "data": {
      "text/html": [
       "<div>\n",
       "<style scoped>\n",
       "    .dataframe tbody tr th:only-of-type {\n",
       "        vertical-align: middle;\n",
       "    }\n",
       "\n",
       "    .dataframe tbody tr th {\n",
       "        vertical-align: top;\n",
       "    }\n",
       "\n",
       "    .dataframe thead th {\n",
       "        text-align: right;\n",
       "    }\n",
       "</style>\n",
       "<table border=\"1\" class=\"dataframe\">\n",
       "  <thead>\n",
       "    <tr style=\"text-align: right;\">\n",
       "      <th></th>\n",
       "      <th>text</th>\n",
       "      <th>emotion</th>\n",
       "      <th>emotion_label</th>\n",
       "      <th>clean_text</th>\n",
       "    </tr>\n",
       "  </thead>\n",
       "  <tbody>\n",
       "    <tr>\n",
       "      <td>4750</td>\n",
       "      <td>this all happened a day before my birthday?</td>\n",
       "      <td>3</td>\n",
       "      <td>Sad</td>\n",
       "      <td>happened day birthday</td>\n",
       "    </tr>\n",
       "    <tr>\n",
       "      <td>4689</td>\n",
       "      <td>I know it was pretty stupid but everyone makes...</td>\n",
       "      <td>2</td>\n",
       "      <td>Angry</td>\n",
       "      <td>know pretty stupid everyone makes mistake like...</td>\n",
       "    </tr>\n",
       "    <tr>\n",
       "      <td>5175</td>\n",
       "      <td>Sick fuck</td>\n",
       "      <td>0</td>\n",
       "      <td>Neutral</td>\n",
       "      <td>sick fuck</td>\n",
       "    </tr>\n",
       "    <tr>\n",
       "      <td>931</td>\n",
       "      <td>Happy and healthy lives are boring. Danger and...</td>\n",
       "      <td>1</td>\n",
       "      <td>Happy</td>\n",
       "      <td>happy healthy lives boring danger adventure re...</td>\n",
       "    </tr>\n",
       "    <tr>\n",
       "      <td>10012</td>\n",
       "      <td>Can I plz have the giveaway</td>\n",
       "      <td>3</td>\n",
       "      <td>Sad</td>\n",
       "      <td>plz giveaway</td>\n",
       "    </tr>\n",
       "  </tbody>\n",
       "</table>\n",
       "</div>"
      ],
      "text/plain": [
       "                                                    text  emotion  \\\n",
       "4750         this all happened a day before my birthday?        3   \n",
       "4689   I know it was pretty stupid but everyone makes...        2   \n",
       "5175                                           Sick fuck        0   \n",
       "931    Happy and healthy lives are boring. Danger and...        1   \n",
       "10012                        Can I plz have the giveaway        3   \n",
       "\n",
       "      emotion_label                                         clean_text  \n",
       "4750            Sad                              happened day birthday  \n",
       "4689          Angry  know pretty stupid everyone makes mistake like...  \n",
       "5175        Neutral                                          sick fuck  \n",
       "931           Happy  happy healthy lives boring danger adventure re...  \n",
       "10012           Sad                                       plz giveaway  "
      ]
     },
     "execution_count": 15,
     "metadata": {},
     "output_type": "execute_result"
    }
   ],
   "source": [
    "preprocess_df.head()"
   ]
  },
  {
   "cell_type": "markdown",
   "metadata": {},
   "source": [
    "Để có cái nhìn rõ hơn về tần suất xuất hiện của các từ trong dataset, nhóm visualize lại biểu đồ cột, trục x là trục biểu thị cho loại từ và y là số lần từ đó xuất hiện trong dataset."
   ]
  },
  {
   "cell_type": "code",
   "execution_count": 16,
   "metadata": {},
   "outputs": [],
   "source": [
    "sr_clean = preprocess_df['clean_text']\n",
    "\n",
    "count_vect = CountVectorizer()\n",
    "bow = count_vect.fit_transform(sr_clean.values.astype('U'))\n",
    "word_freq = dict(zip(count_vect.get_feature_names(), np.asarray(bow.sum(axis=0)).ravel()))\n",
    "word_counter = collections.Counter(word_freq)\n",
    "\n",
    "most_common_df = pd.DataFrame(word_counter.most_common(20), columns=['word', 'freq'])\n",
    "least_common_df = pd.DataFrame(word_counter.most_common()[:-10-1:-1], columns=['word', 'freq'])"
   ]
  },
  {
   "cell_type": "code",
   "execution_count": 17,
   "metadata": {},
   "outputs": [
    {
     "data": {
      "image/png": "[encoded data removed]",
      "text/plain": [
       "<Figure size 1152x576 with 1 Axes>"
      ]
     },
     "metadata": {
      "needs_background": "light"
     },
     "output_type": "display_data"
    }
   ],
   "source": [
    "fig, ax = plt.subplots(figsize=(16, 8))\n",
    "bar_freq_word = sns.barplot(x=\"word\", y=\"freq\", data=most_common_df, palette=\"GnBu_d\", ax=ax)\n",
    "plt.show();"
   ]
  },
  {
   "cell_type": "code",
   "execution_count": 18,
   "metadata": {},
   "outputs": [
    {
     "data": {
      "image/png": "[encoded data removed]",
      "text/plain": [
       "<Figure size 1152x576 with 1 Axes>"
      ]
     },
     "metadata": {
      "needs_background": "light"
     },
     "output_type": "display_data"
    }
   ],
   "source": [
    "fig, ax = plt.subplots(figsize=(16, 8))\n",
    "bar_freq_word = sns.barplot(x=\"word\", y=\"freq\", data=least_common_df, palette=\"GnBu_d\", ax=ax)\n",
    "plt.show();"
   ]
  },
  {
   "cell_type": "code",
   "execution_count": 19,
   "metadata": {},
   "outputs": [],
   "source": [
    "preprocess_model = Pipeline(\n",
    "    steps=[\n",
    "        ('counting', Counting()),\n",
    "        ('mkclean', MakeCleanText()),\n",
    "        ('rmempty', FilterEmptyText())\n",
    "    ]\n",
    ")\n",
    "X = preprocess_model.fit_transform(df)"
   ]
  },
  {
   "cell_type": "markdown",
   "metadata": {},
   "source": [
    "## 2. Xây dựng model\n",
    "Nhóm sử dụng hàm `train_test_split` để split tập training và testing theo tỉ lệ 8:2\n",
    "\n",
    "\n",
    "Để đo được hiệu quả của một mô hình, nhóm sử dụng GridSearchCV để thực hiện việc cross-validation.\n",
    "\n",
    "Nhóm sẽ kết hợp 3 hàm phân loại (`MultiNomialNb`, `LogisticRegression`, `SGDClassifier`) và 2 hàm vectorizer (`CountVectorizer`, `TF-IDF Vectorizer`)\n",
    "\n",
    "Hàm grid_vect (tham khảo ở https://scikit-learn.org/stable/auto_examples/model_selection/grid_search_text_feature_extraction.html) sẽ nhận các tham số bao gồm `classifier`, `parameters_clf`,`vectorize`, `param_vectorize`, và in ra kết quả và tham số tối ưu trên tập `train` và `test`.\n",
    "\n",
    "#### CountVectorize\n",
    "\n",
    "Để phân loại từ, việc đầu tiên là phải ánh xạ các từ về số, hàm đầu tiên nhóm sẽ sử dụng là CountVectorizer. Hàm này sẽ gán cho mỗi từ 1 ID và số lần xuất hiện trong một câu.\n",
    "\n",
    "#### TF-IDF Vectorizer\n",
    "\n",
    "Vấn đề của CountVectorize là có thể có những từ xuất hiện khá nhiều, và không mang tính phân loại, nên cần phải loại bỏ, vì thế nhóm tìm hiểu đến hàm TF-IDF (term frequency - inverse document frequency) để giảm trọng số các từ này lại.\n",
    "\n"
   ]
  },
  {
   "cell_type": "code",
   "execution_count": 20,
   "metadata": {},
   "outputs": [
    {
     "data": {
      "text/html": [
       "<div>\n",
       "<style scoped>\n",
       "    .dataframe tbody tr th:only-of-type {\n",
       "        vertical-align: middle;\n",
       "    }\n",
       "\n",
       "    .dataframe tbody tr th {\n",
       "        vertical-align: top;\n",
       "    }\n",
       "\n",
       "    .dataframe thead th {\n",
       "        text-align: right;\n",
       "    }\n",
       "</style>\n",
       "<table border=\"1\" class=\"dataframe\">\n",
       "  <thead>\n",
       "    <tr style=\"text-align: right;\">\n",
       "      <th></th>\n",
       "      <th>text</th>\n",
       "      <th>emotion</th>\n",
       "      <th>emotion_label</th>\n",
       "      <th>count_words</th>\n",
       "      <th>count_capital</th>\n",
       "      <th>count_excl_quest</th>\n",
       "      <th>count_positive_emojis</th>\n",
       "      <th>count_negative_emojis</th>\n",
       "      <th>clean_text</th>\n",
       "    </tr>\n",
       "  </thead>\n",
       "  <tbody>\n",
       "    <tr>\n",
       "      <td>8147</td>\n",
       "      <td>Makes me feel guilty</td>\n",
       "      <td>3</td>\n",
       "      <td>Sad</td>\n",
       "      <td>4</td>\n",
       "      <td>0</td>\n",
       "      <td>0</td>\n",
       "      <td>0</td>\n",
       "      <td>0</td>\n",
       "      <td>makes feel guilty</td>\n",
       "    </tr>\n",
       "    <tr>\n",
       "      <td>9336</td>\n",
       "      <td>I got triggered when he was in a mech</td>\n",
       "      <td>2</td>\n",
       "      <td>Angry</td>\n",
       "      <td>9</td>\n",
       "      <td>0</td>\n",
       "      <td>0</td>\n",
       "      <td>0</td>\n",
       "      <td>0</td>\n",
       "      <td>got triggered mech</td>\n",
       "    </tr>\n",
       "    <tr>\n",
       "      <td>10985</td>\n",
       "      <td>Omggggg I have the same book as her the Jesus ...</td>\n",
       "      <td>0</td>\n",
       "      <td>Neutral</td>\n",
       "      <td>16</td>\n",
       "      <td>0</td>\n",
       "      <td>0</td>\n",
       "      <td>0</td>\n",
       "      <td>0</td>\n",
       "      <td>oh god book jesus calling one small world</td>\n",
       "    </tr>\n",
       "    <tr>\n",
       "      <td>7123</td>\n",
       "      <td>**sad</td>\n",
       "      <td>3</td>\n",
       "      <td>Sad</td>\n",
       "      <td>1</td>\n",
       "      <td>0</td>\n",
       "      <td>0</td>\n",
       "      <td>0</td>\n",
       "      <td>0</td>\n",
       "      <td>sad</td>\n",
       "    </tr>\n",
       "    <tr>\n",
       "      <td>10717</td>\n",
       "      <td>Karissa:  woohoo I got the prank crown yeahhh ...</td>\n",
       "      <td>0</td>\n",
       "      <td>Neutral</td>\n",
       "      <td>13</td>\n",
       "      <td>0</td>\n",
       "      <td>0</td>\n",
       "      <td>0</td>\n",
       "      <td>0</td>\n",
       "      <td>karissa woohoo got prank crown yeah baby yea i...</td>\n",
       "    </tr>\n",
       "  </tbody>\n",
       "</table>\n",
       "</div>"
      ],
      "text/plain": [
       "                                                    text  emotion  \\\n",
       "8147                                Makes me feel guilty        3   \n",
       "9336               I got triggered when he was in a mech        2   \n",
       "10985  Omggggg I have the same book as her the Jesus ...        0   \n",
       "7123                                               **sad        3   \n",
       "10717  Karissa:  woohoo I got the prank crown yeahhh ...        0   \n",
       "\n",
       "      emotion_label  count_words  count_capital  count_excl_quest  \\\n",
       "8147            Sad            4              0                 0   \n",
       "9336          Angry            9              0                 0   \n",
       "10985       Neutral           16              0                 0   \n",
       "7123            Sad            1              0                 0   \n",
       "10717       Neutral           13              0                 0   \n",
       "\n",
       "       count_positive_emojis  count_negative_emojis  \\\n",
       "8147                       0                      0   \n",
       "9336                       0                      0   \n",
       "10985                      0                      0   \n",
       "7123                       0                      0   \n",
       "10717                      0                      0   \n",
       "\n",
       "                                              clean_text  \n",
       "8147                                   makes feel guilty  \n",
       "9336                                  got triggered mech  \n",
       "10985          oh god book jesus calling one small world  \n",
       "7123                                                 sad  \n",
       "10717  karissa woohoo got prank crown yeah baby yea i...  "
      ]
     },
     "execution_count": 20,
     "metadata": {},
     "output_type": "execute_result"
    }
   ],
   "source": [
    "y = X['emotion']\n",
    "X.drop(columns=['emotion'])\n",
    "\n",
    "X_train, X_test, y_train, y_test = train_test_split(\n",
    "    X, y, test_size=0.2, random_state=42, shuffle=True)\n",
    "\n",
    "X_train.head()"
   ]
  },
  {
   "cell_type": "code",
   "execution_count": 21,
   "metadata": {},
   "outputs": [],
   "source": [
    "class ColumnExtractor(TransformerMixin, BaseEstimator):\n",
    "    def __init__(self, cols):\n",
    "        self.cols = cols\n",
    "\n",
    "    def transform(self, X, **transform_params):\n",
    "        return X[self.cols]\n",
    "\n",
    "    def fit(self, X, y=None, **fit_params):\n",
    "        return self"
   ]
  },
  {
   "cell_type": "code",
   "execution_count": 22,
   "metadata": {},
   "outputs": [],
   "source": [
    "def grid_vect(clf, parameters_clf, X_train, X_test, parameters_text=None, vect=None):\n",
    "    \n",
    "    textcountscols = [\n",
    "        'count_negative_emojis',\n",
    "        'count_positive_emojis',\n",
    "        'count_excl_quest',\n",
    "        'count_capital',\n",
    "        'count_words'\n",
    "    ]\n",
    "    \n",
    "    # Tạo pipeline chuyển 'clean_text' sang Count hay TFIDF\n",
    "    cleanTextPipeline = Pipeline(\n",
    "        steps=[\n",
    "            ('cleantext', ColumnExtractor(cols='clean_text')), \n",
    "            ('vect', vect)\n",
    "        ]\n",
    "    )\n",
    "    \n",
    "    features = FeatureUnion(\n",
    "        transformer_list=[\n",
    "            ('textcounts', ColumnExtractor(cols=textcountscols)), \n",
    "            ('pipe', cleanTextPipeline)\n",
    "        ],\n",
    "        \n",
    "        # Sử dụng tất cả CPUs\n",
    "        n_jobs=-1\n",
    "    )\n",
    "\n",
    "    \n",
    "    pipeline = Pipeline([\n",
    "        ('features', features),\n",
    "        ('clf', clf)\n",
    "    ])\n",
    "    \n",
    "    # Kết hợp parameters_text (của BOW hay TTFIDF) và parameters_clf (hyper parameter của classifier)\n",
    "    parameters = dict()\n",
    "    if parameters_text:\n",
    "        parameters.update(parameters_text)\n",
    "    parameters.update(parameters_clf)\n",
    "\n",
    "    grid_search = GridSearchCV(pipeline, parameters, n_jobs=-1, verbose=1, cv=5)\n",
    "    \n",
    "    print(\"Performing grid search...\")\n",
    "    print(\"pipeline:\", [name for name, _ in pipeline.steps])\n",
    "    print(\"parameters:\")\n",
    "    pprint(parameters)\n",
    "\n",
    "    t0 = time()\n",
    "    grid_search.fit(X_train, y_train)\n",
    "    print(\"done in %0.3fs\" % (time() - t0))\n",
    "    print()\n",
    "\n",
    "    print(\"Best CV score: %0.3f\" % grid_search.best_score_)\n",
    "    print(\"Best parameters set:\")\n",
    "    best_parameters = grid_search.best_estimator_.get_params()\n",
    "    for param_name in sorted(parameters.keys()):\n",
    "        print(\"\\t%s: %r\" % (param_name, best_parameters[param_name]))\n",
    "        \n",
    "    print(\"Test score with best_estimator_: %0.3f\" % grid_search.best_estimator_.score(X_test, y_test))\n",
    "    print(\"\\n\")\n",
    "    print(\"Classification Report Test Data\")\n",
    "    print(classification_report(y_test, grid_search.best_estimator_.predict(X_test)))\n",
    "                        \n",
    "    return grid_search"
   ]
  },
  {
   "cell_type": "code",
   "execution_count": 23,
   "metadata": {},
   "outputs": [],
   "source": [
    "parameters_vect = {\n",
    "    'features__pipe__vect__max_df': (0.25, 0.5, 0.75),\n",
    "    'features__pipe__vect__ngram_range': ((1, 1), (1, 2)),\n",
    "    'features__pipe__vect__min_df': (1,2)\n",
    "}\n",
    "\n",
    "\n",
    "parameters_mnb = {\n",
    "    'clf__alpha': (0.25, 0.5, 0.75)\n",
    "}\n",
    "\n",
    "\n",
    "parameters_logreg = {\n",
    "    'clf__C': (0.5, 1.0),\n",
    "}\n",
    "\n",
    "parameters_sgd = {\n",
    "    'clf__alpha': (1e-3, 1e-4),\n",
    "    'clf__loss': ('hinge', 'log')\n",
    "}"
   ]
  },
  {
   "cell_type": "code",
   "execution_count": 24,
   "metadata": {},
   "outputs": [],
   "source": [
    "mnb = MultinomialNB()\n",
    "logreg = LogisticRegression(max_iter=100, penalty='l2')\n",
    "sgd = SGDClassifier(max_iter=100, penalty='l2')\n",
    "\n",
    "countvect = CountVectorizer()\n",
    "tfidfvect = TfidfVectorizer()"
   ]
  },
  {
   "cell_type": "code",
   "execution_count": 25,
   "metadata": {},
   "outputs": [],
   "source": [
    "# Grid search chạy khá lâu nên comment lại\n",
    "# best_mnb_countvect = grid_vect(mnb, parameters_mnb, X_train, X_test, parameters_text=parameters_vect, vect=countvect)"
   ]
  },
  {
   "cell_type": "code",
   "execution_count": 26,
   "metadata": {},
   "outputs": [],
   "source": [
    "# best_logreg_countvect = grid_vect(logreg, parameters_logreg, X_train, X_test, parameters_text=parameters_vect, vect=countvect)"
   ]
  },
  {
   "cell_type": "code",
   "execution_count": 27,
   "metadata": {},
   "outputs": [],
   "source": [
    "# best_sgd_countvect = grid_vect(sgd, parameters_sgd, X_train, X_test, parameters_text=parameters_vect, vect=countvect)"
   ]
  },
  {
   "cell_type": "code",
   "execution_count": 28,
   "metadata": {},
   "outputs": [],
   "source": [
    "# best_mnb_tfidf = grid_vect(mnb, parameters_mnb, X_train, X_test, parameters_text=parameters_vect, vect=tfidfvect)"
   ]
  },
  {
   "cell_type": "code",
   "execution_count": 29,
   "metadata": {},
   "outputs": [],
   "source": [
    "# best_logreg_tfidf = grid_vect(logreg, parameters_logreg, X_train, X_test, parameters_text=parameters_vect, vect=tfidfvect)"
   ]
  },
  {
   "cell_type": "code",
   "execution_count": 30,
   "metadata": {},
   "outputs": [],
   "source": [
    "# best_sgd_tfidf = grid_vect(sgd, parameters_sgd, X_train, X_test, parameters_text=parameters_vect, vect=tfidfvect)"
   ]
  },
  {
   "cell_type": "markdown",
   "metadata": {},
   "source": [
    "## 3. Kết luận\n",
    "\n",
    "Qua các lần chạy 6 model (mất khoảng 10 phút). Nhóm thu được kết quả sau cho best estimator:\n",
    "\n",
    "Chú ý: Các thông số ở đây có thể sẽ không giống với các thông số kết quả ở trên vì mỗi khi load lại data là nhóm có shuffle data lại random. \n",
    "\n",
    "| Classifier/Param | max_df | min_df | ngram_range | alpha  | C    | loss  | accuracy |\n",
    "| :---------------:| :---:  | :----: | :---------: | :----: | :--: | :--:  | :------: |\n",
    "| mnb_countvect    | 0.25   | 2      | (1,2)       | 0.5    | None | None  | 0.616    |\n",
    "| mnb_tfidf        | 0.25   | 2      | (1,2)       | 0.25   | None | None  | 0.610    |\n",
    "| logreg_countvect | 0.25   | 1      | (1,2)       | None   | 1.0  | None  | 0.643    |\n",
    "| logreg_tfidf     | 0.25   | 2      | (1,2)       | None   | 1.0  | None  | 0.641    |\n",
    "| sgd_countvect    | 0.5    | 1      | (1,2)       | 0.0001 | None | log   | 0.627    |\n",
    "| sdg_tfidf        | 0.25   | 2      | (1,1)       | 0.001  | None | hinge | 0.542    |\n",
    "\n",
    "Ta có thể thấy 2 model `logreg_countvect` và `logreg_tfidf` có performance cao nhất trong 6 model, nên nhóm quyết định chọn model `logreg_tfidf` để làm model chính để train toàn bộ tập dữ liệu."
   ]
  },
  {
   "cell_type": "markdown",
   "metadata": {},
   "source": [
    "## 4. Build Best full pipeline"
   ]
  },
  {
   "cell_type": "code",
   "execution_count": 31,
   "metadata": {},
   "outputs": [],
   "source": [
    "vect = TfidfVectorizer(max_df=0.25, min_df=2, ngram_range=(1,2))\n",
    "clf = logreg = LogisticRegression(max_iter=200, penalty='l2', C=1.0)\n",
    "\n",
    "cleanTextPipeline = Pipeline(\n",
    "    steps=[\n",
    "        ('cleantext', ColumnExtractor(cols='clean_text')), \n",
    "        ('vect', vect)\n",
    "    ]\n",
    ")\n",
    "\n",
    "textcountscols = [\n",
    "    'count_negative_emojis',\n",
    "    'count_positive_emojis',\n",
    "    'count_excl_quest',\n",
    "    'count_capital',\n",
    "    'count_words'\n",
    "]\n",
    "\n",
    "features = FeatureUnion(\n",
    "    transformer_list=[\n",
    "        ('textcounts', ColumnExtractor(cols=textcountscols)), \n",
    "        ('pipe', cleanTextPipeline)\n",
    "    ],\n",
    ")\n",
    "\n",
    "    \n",
    "pipeline = Pipeline([\n",
    "    ('features', features),\n",
    "    ('clf', clf)\n",
    "])\n",
    "\n",
    "best_full_pipeline = Pipeline(\n",
    "    steps=[\n",
    "        ('counting', Counting()),\n",
    "        ('mkclean', MakeCleanText()),\n",
    "        ('features', features),\n",
    "        ('clf', clf)\n",
    "    ]\n",
    ")"
   ]
  },
  {
   "cell_type": "code",
   "execution_count": 32,
   "metadata": {},
   "outputs": [
    {
     "name": "stderr",
     "output_type": "stream",
     "text": [
      "C:\\Users\\LAP11121-local\\Anaconda3\\lib\\site-packages\\sklearn\\linear_model\\logistic.py:432: FutureWarning: Default solver will be changed to 'lbfgs' in 0.22. Specify a solver to silence this warning.\n",
      "  FutureWarning)\n",
      "C:\\Users\\LAP11121-local\\Anaconda3\\lib\\site-packages\\sklearn\\linear_model\\logistic.py:469: FutureWarning: Default multi_class will be changed to 'auto' in 0.22. Specify the multi_class option to silence this warning.\n",
      "  \"this warning.\", FutureWarning)\n"
     ]
    }
   ],
   "source": [
    "model = best_full_pipeline.fit(X, y)"
   ]
  },
  {
   "cell_type": "markdown",
   "metadata": {},
   "source": [
    "## 5. Testing trên tập chưa nhìn thấy"
   ]
  },
  {
   "cell_type": "code",
   "execution_count": 33,
   "metadata": {},
   "outputs": [
    {
     "data": {
      "text/plain": [
       "(2309,)"
      ]
     },
     "execution_count": 33,
     "metadata": {},
     "output_type": "execute_result"
    }
   ],
   "source": [
    "df_test_no_seen = pd.read_csv('../CrawlComment/final_test.csv', sep='\\t', header=None)\n",
    "\n",
    "X_test_no_seen = pd.DataFrame()\n",
    "X_test_no_seen['text'] = df_test_no_seen[0]\n",
    "y_test_no_seen = df_test_no_seen[1]\n",
    "\n",
    "y_test_no_seen.shape"
   ]
  },
  {
   "cell_type": "code",
   "execution_count": 34,
   "metadata": {},
   "outputs": [
    {
     "data": {
      "text/plain": [
       "0.5461238631442182"
      ]
     },
     "execution_count": 34,
     "metadata": {},
     "output_type": "execute_result"
    }
   ],
   "source": [
    "predicted_test_no_seen = model.predict(X_test_no_seen)\n",
    "np.mean(predicted_test_no_seen == y_test_no_seen)"
   ]
  },
  {
   "cell_type": "markdown",
   "metadata": {},
   "source": [
    "### Nhận xét kết quả\n",
    "\n",
    "Kết quả sau khi test ở tập chưa bao giờ nhìn thấy , accuracy vào khoảng 54%, là một kết quả chấp nhận được. Nhưng là một khoảng cách xa so với lúc test trên tập validation ~62% - 64%. Ở đây model đã overfit với tập training.\n",
    "\n",
    "Sau đây là một vài dự đoán của nhóm:\n",
    "\n",
    "- Khi làm việc với tập validation nhóm có để 'LEAK' một thông tin từ tập test ra đó là tạo luôn `dictionary` cho tập test, vì thế những từ mới trong tập test sẽ khi predict đi qua bước `translate_unknow_word` của Class `MakeCleanText` thì sẽ luôn gặp từ có thể tìm trong `dictionary`.\n",
    "- Nên nhóm dự đoán lý do chính overfit là do `dictionary` bị leak. Cho tập train có thể nhìn thấy trước được dữ liệu. \n",
    "- Lý do quan trong không kém đó là số lượng `unknow_word` (những từ không có trong `dictionary`) ở tập chưa nhìn thấy là nhiều so với tập nhìn thấy (vì ở đây nhóm crawl comment youtube, khá nhiều từ được viết tắt, teencode), cách xử lý của nhóm đối với những từ chưa biết (không có trong `dictionary`) là lược bỏ những từ đó. Vì thế sẽ khiến feature trong clean text sẽ mất rất nhiều, dẫn đến accuracy thấp hơn so với training."
   ]
  },
  {
   "cell_type": "markdown",
   "metadata": {},
   "source": [
    "### Tự test trên chính câu của mình nào !!!"
   ]
  },
  {
   "cell_type": "code",
   "execution_count": 35,
   "metadata": {},
   "outputs": [
    {
     "data": {
      "text/html": [
       "<div>\n",
       "<style scoped>\n",
       "    .dataframe tbody tr th:only-of-type {\n",
       "        vertical-align: middle;\n",
       "    }\n",
       "\n",
       "    .dataframe tbody tr th {\n",
       "        vertical-align: top;\n",
       "    }\n",
       "\n",
       "    .dataframe thead th {\n",
       "        text-align: right;\n",
       "    }\n",
       "</style>\n",
       "<table border=\"1\" class=\"dataframe\">\n",
       "  <thead>\n",
       "    <tr style=\"text-align: right;\">\n",
       "      <th></th>\n",
       "      <th>text</th>\n",
       "      <th>predicted</th>\n",
       "    </tr>\n",
       "  </thead>\n",
       "  <tbody>\n",
       "    <tr>\n",
       "      <td>0</td>\n",
       "      <td>C'mon guys, It is a happy music</td>\n",
       "      <td>Happy</td>\n",
       "    </tr>\n",
       "    <tr>\n",
       "      <td>1</td>\n",
       "      <td>All the cats are so cute xD</td>\n",
       "      <td>Happy</td>\n",
       "    </tr>\n",
       "    <tr>\n",
       "      <td>2</td>\n",
       "      <td>This video made me crying so much :((((</td>\n",
       "      <td>Sad</td>\n",
       "    </tr>\n",
       "    <tr>\n",
       "      <td>3</td>\n",
       "      <td>I DON'T GET IT</td>\n",
       "      <td>Angry</td>\n",
       "    </tr>\n",
       "    <tr>\n",
       "      <td>4</td>\n",
       "      <td>It will be a good day today</td>\n",
       "      <td>Happy</td>\n",
       "    </tr>\n",
       "    <tr>\n",
       "      <td>5</td>\n",
       "      <td>I hate him, he always make me angry</td>\n",
       "      <td>Angry</td>\n",
       "    </tr>\n",
       "    <tr>\n",
       "      <td>6</td>\n",
       "      <td>I don't know why he yell at me :'(</td>\n",
       "      <td>Sad</td>\n",
       "    </tr>\n",
       "    <tr>\n",
       "      <td>7</td>\n",
       "      <td>He has no respect to me !!!!!</td>\n",
       "      <td>Angry</td>\n",
       "    </tr>\n",
       "    <tr>\n",
       "      <td>8</td>\n",
       "      <td>sdfsadvnlksan alksdmf as nfalskd f</td>\n",
       "      <td>Neutral</td>\n",
       "    </tr>\n",
       "  </tbody>\n",
       "</table>\n",
       "</div>"
      ],
      "text/plain": [
       "                                      text predicted\n",
       "0          C'mon guys, It is a happy music     Happy\n",
       "1              All the cats are so cute xD     Happy\n",
       "2  This video made me crying so much :((((       Sad\n",
       "3                           I DON'T GET IT     Angry\n",
       "4              It will be a good day today     Happy\n",
       "5      I hate him, he always make me angry     Angry\n",
       "6       I don't know why he yell at me :'(       Sad\n",
       "7            He has no respect to me !!!!!     Angry\n",
       "8       sdfsadvnlksan alksdmf as nfalskd f   Neutral"
      ]
     },
     "execution_count": 35,
     "metadata": {},
     "output_type": "execute_result"
    }
   ],
   "source": [
    "sentences = [\n",
    "    'C\\'mon guys, It is a happy music',\n",
    "    'All the cats are so cute xD',\n",
    "    'This video made me crying so much :((((',\n",
    "    'I DON\\'T GET IT',\n",
    "    'It will be a good day today',\n",
    "    'I hate him, he always make me angry',\n",
    "    'I don\\'t know why he yell at me :\\'(',\n",
    "    'He has no respect to me !!!!!',\n",
    "    'sdfsadvnlksan alksdmf as nfalskd f',\n",
    "]\n",
    "\n",
    "X_predict = pd.DataFrame()\n",
    "X_predict['text'] = sentences\n",
    "\n",
    "predicted = model.predict(X_predict)\n",
    "X_predict['predicted'] = np.array(list(map(mappingToEmotion, predicted)))\n",
    "X_predict"
   ]
  }
 ],
 "metadata": {
  "kernelspec": {
   "display_name": "Python 3",
   "language": "python",
   "name": "python3"
  },
  "language_info": {
   "codemirror_mode": {
    "name": "ipython",
    "version": 3
   },
   "file_extension": ".py",
   "mimetype": "text/x-python",
   "name": "python",
   "nbconvert_exporter": "python",
   "pygments_lexer": "ipython3",
   "version": "3.7.4"
  },
  "toc": {
   "base_numbering": 1,
   "nav_menu": {},
   "number_sections": true,
   "sideBar": true,
   "skip_h1_title": false,
   "title_cell": "Table of Contents",
   "title_sidebar": "Contents",
   "toc_cell": false,
   "toc_position": {},
   "toc_section_display": true,
   "toc_window_display": false
  }
 },
 "nbformat": 4,
 "nbformat_minor": 2
}
