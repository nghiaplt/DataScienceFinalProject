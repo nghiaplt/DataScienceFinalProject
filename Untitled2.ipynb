{
 "cells": [
  {
   "cell_type": "code",
   "execution_count": 1,
   "metadata": {},
   "outputs": [],
   "source": [
    "import pandas as pd\n",
    "import numpy as np\n",
    "from sklearn.model_selection import train_test_split\n",
    "from sklearn.feature_extraction.text import CountVectorizer\n",
    "from sklearn.naive_bayes import MultinomialNB\n",
    "from sklearn.feature_extraction.text import TfidfTransformer\n",
    "from sklearn.pipeline import Pipeline\n",
    "from sklearn.linear_model import SGDClassifier\n",
    "from sklearn.base import BaseEstimator, TransformerMixin\n",
    "from sklearn.pipeline import Pipeline, make_pipeline\n",
    "from sklearn.compose import ColumnTransformer, make_column_transformer\n",
    "from sklearn.neural_network import MLPClassifier\n",
    "from sklearn import metrics\n",
    "from sklearn.preprocessing import FunctionTransformer\n",
    "import codecs\n",
    "import json\n",
    "%matplotlib inline\n"
   ]
  },
  {
   "cell_type": "code",
   "execution_count": 2,
   "metadata": {},
   "outputs": [
    {
     "name": "stdout",
     "output_type": "stream",
     "text": [
      "<class 'pandas.core.frame.DataFrame'>\n",
      "RangeIndex: 12864 entries, 0 to 12863\n",
      "Data columns (total 2 columns):\n",
      "0    12864 non-null object\n",
      "1    12864 non-null int64\n",
      "dtypes: int64(1), object(1)\n",
      "memory usage: 201.1+ KB\n"
     ]
    }
   ],
   "source": [
    "happy_train = pd.read_csv('./CrawlComment/final_happy.csv', sep='\\t', header=None)\n",
    "angry_train = pd.read_csv('./CrawlComment/final_angry.csv', sep='\\t', header=None)\n",
    "sad_train = pd.read_csv('./CrawlComment/final_sad.csv', sep='\\t', header=None)\n",
    "prank_train = pd.read_csv('./CrawlComment/final_prank.csv', sep='\\t', header=None)\n",
    "frames = [happy_train, angry_train, sad_train, prank_train]\n",
    "df = pd.concat(frames, ignore_index=True)\n",
    "df.info()\n",
    "df.to_csv('final.csv', index = False)"
   ]
  },
  {
   "cell_type": "code",
   "execution_count": 3,
   "metadata": {
    "scrolled": true
   },
   "outputs": [
    {
     "name": "stdout",
     "output_type": "stream",
     "text": [
      "Enter custom dictionary file: dictionary.txt\n"
     ]
    }
   ],
   "source": [
    "f = codecs.open(\"./CrawlComment/glove.6B.50d.txt\",\"r\",\"utf-8\")\n",
    "lines = f.readlines()\n",
    "words = [x.split(' ')[0] for x in lines]\n",
    "glove_dict = {}\n",
    "for word in words:\n",
    "    glove_dict[word] = word\n",
    "f.close()\n",
    "f = open(\"./CrawlComment/our_dictionary.txt\",\"w\")\n",
    "f.write(json.dumps(glove_dict))\n",
    "f.close()\n",
    "glove_dict.update(json.loads(open(input(\"Enter custom dictionary file: \"), \"r\").read()))"
   ]
  },
  {
   "cell_type": "code",
   "execution_count": 4,
   "metadata": {
    "scrolled": true
   },
   "outputs": [
    {
     "name": "stdout",
     "output_type": "stream",
     "text": [
      "<class 'pandas.core.frame.DataFrame'>\n",
      "Int64Index: 12742 entries, 1 to 12863\n",
      "Data columns (total 2 columns):\n",
      "0    12742 non-null object\n",
      "1    12742 non-null int64\n",
      "dtypes: int64(1), object(1)\n",
      "memory usage: 298.6+ KB\n"
     ]
    }
   ],
   "source": [
    "def normalize(x):\n",
    "    try:\n",
    "        x = x.lower().strip()\n",
    "    except:\n",
    "        return np.nan\n",
    "    ans = ''\n",
    "    for i in x:\n",
    "        if 'a' <= i <= 'z' or i == ' ':\n",
    "            ans += i\n",
    "    return ans if len(ans) > 0 else np.nan\n",
    "\n",
    "def keep_clean(x):\n",
    "    x = x.strip()\n",
    "    return ' '.join(x.split())\n",
    "\n",
    "\n",
    "# Class Custom có nhiệm vụ chỉ giữ kí tự trong chuỗi, nếu len = 0 thì sẽ là giá trị bị thiếu\n",
    "class Custom(BaseEstimator, TransformerMixin):\n",
    "    def __init__(self):\n",
    "        pass\n",
    "    def fit(self, X, y=None):\n",
    "        return self\n",
    "    def transform(self, X, y=None):\n",
    "        X_new = X\n",
    "        X_new[0] = X_new[0].apply(lambda x: normalize(x))\n",
    "        X_new.dropna(inplace=True)\n",
    "        return X_new\n",
    "\n",
    "# Class Custom2 có nhiệm vụ bỏ các khoảng trắng thừa trong chuỗi.\n",
    "class Custom2(BaseEstimator, TransformerMixin):\n",
    "    def __init__(self):\n",
    "        pass\n",
    "    def fit(self, X, y=None):\n",
    "        return self\n",
    "    def transform(self, X, y=None):\n",
    "        X_new = X\n",
    "        X_new[0] = X_new[0].apply(lambda x: keep_clean(x))\n",
    "        X_new.dropna(inplace=True)\n",
    "        return X_new\n",
    "\n",
    "# Class Interactive, nếu có những từ không có trong từ điển, ta phải nhập bằng tay hahahaha\n",
    "class Interactive(BaseEstimator, TransformerMixin):\n",
    "    def __init__(self):\n",
    "        pass\n",
    "    def fit(self, X, y=None):\n",
    "        return self\n",
    "    def transform(self, X, y=None):\n",
    "        text = X[0]\n",
    "        new = []\n",
    "        for line in text:\n",
    "            new_line = ''\n",
    "            for word in line.split():\n",
    "                if word not in glove_dict:\n",
    "                    print(word)\n",
    "                    glove_dict[word] = input(word + ' ')\n",
    "                    open(\"dictionary.txt\", \"w\").write(json.dumps(glove_dict))\n",
    "                else:\n",
    "                    new_line += ' ' + glove_dict[word]\n",
    "            new.append(new_line)\n",
    "        X[0] = new\n",
    "        return X\n",
    "preprocess = make_pipeline(\n",
    "    Custom(),\n",
    "    Interactive(),\n",
    "    Custom(),\n",
    "    Custom2()\n",
    ")\n",
    "preprocess.fit_transform(df)\n",
    "df.info()"
   ]
  },
  {
   "cell_type": "code",
   "execution_count": 5,
   "metadata": {},
   "outputs": [],
   "source": [
    "df.to_csv('final_new.csv', index=False)"
   ]
  },
  {
   "cell_type": "code",
   "execution_count": null,
   "metadata": {},
   "outputs": [],
   "source": []
  }
 ],
 "metadata": {
  "kernelspec": {
   "display_name": "Python 3",
   "language": "python",
   "name": "python3"
  },
  "language_info": {
   "codemirror_mode": {
    "name": "ipython",
    "version": 3
   },
   "file_extension": ".py",
   "mimetype": "text/x-python",
   "name": "python",
   "nbconvert_exporter": "python",
   "pygments_lexer": "ipython3",
   "version": "3.6.0"
  }
 },
 "nbformat": 4,
 "nbformat_minor": 2
}
