{
 "cells": [
  {
   "cell_type": "markdown",
   "metadata": {},
   "source": [
    "# Text To Emotion\n",
    "\n",
    "### Bài toán\n",
    "- Phân loại văn bản theo 4 loại cảm xúc cơ bản (neutral, happy, angry, sad).\n",
    "\n",
    "### Mục tiêu\n",
    "- Tìm hiểu được cách crawl văn bản từ Google API.\n",
    "- Tìm hiểu được cách preprocessing văn bản.\n",
    "- Tìm hiểu được các cách biến đổi từ văn bản thành vector.\n",
    "- Tìm hiểu được và xây dựng một nền tảng để có thể phân loại được cảm xúc khi nhập vào một đoạn văn bản.\n",
    "- Tìm hiểu thêm được framework keras cũng như các hướng tiếp cận khác của bài toán.\n",
    "\n",
    "### Ứng dụng\n",
    "- Hiểu được cảm xúc của người dùng thông qua các dòng bình luận, nhận xét, đánh giá.\n",
    "- Từ đó, có thể ứng dụng vào phân loại các cảm xúc của các comment từ đó rút ra thống kê, có thể ứng dụng vào trong các ứng dụng như: phân loại comment đánh giá sản phẩm (e-commerce), phân loại comment đánh giá trên facebook post, xếp loại video youtube bằng cách phân loại comment.\n",
    "- Ứng dụng để gợi ý emoji trong các loại ứng dụng chat.\n",
    "\n",
    "### Crawl dữ liệu\n",
    "#### API\n",
    "- Sử dụng GoogleAPIs crawl comment từ các video youtube, mỗi url video đa số chứa những comment thuộc cùng một nhóm. Ví dụ: video về nền công nghiệp gà, bò, hay chiến tranh thì đa số là angry, cũng có sad, các video âm nhạc giải trí mang tính thư giãn thì happy, những video của các vlogger thì đa phần là hỗn tạp vì có người thích và có người ghét.\n",
    "    1. WjNFGZLJLss (angry)\n",
    "    2. 5xzGjW_MEms (sad)\n",
    "    3. nKDgFCojiT8 (sad)\n",
    "    4. hEH7KgQY380 (happy)\n",
    "    5. kIF3BYBXZWA (happy)\n",
    "    6. NvZtkt9973A (happy)\n",
    "    7. SuYwm-wBwBY (happy)\n",
    "    8. iqmO1RlqorU (happy)\n",
    "    9. 9ca8ThA83fE (happy)\n",
    "    10. V-RwqjtQmm8 (angry)\n",
    "    11. WuLZ9ZMA_FA (angry)\n",
    "    12. kopI4-ebPxQ (prank)\n",
    "    13. LEBtUTAf8uE (prank)\n",
    "    14. eBSr1oiIDuU (prank)\n",
    "    15. UYJl7z38V88 (prank)\n",
    "\n",
    "#### Thông tin dữ liệu crawl\n",
    "- Dữ liệu ở đây lên đến ~35k comment.\n",
    "- Thông tin dữ liệu crawl chỉ là những comment, reply, không có label.\n",
    "- Dẫn đến việc nhóm phải tự annotation lại dữ liệu bằng tay.\n",
    "\n",
    "#### Annotation\n",
    "- Nhóm có tự tạo file annotation.py để hỗ trợ việc annotate nhanh hơn và lưu lại cache để ghi nhớ những comment chưa annotate.\n",
    "- Dữ liệu sau khi nhóm tự annotate vào khoảng ~12k comment.\n",
    "- Các file dữ liệu dùng để anotate bao gồm:\n",
    "    - encoded_angry.txt\n",
    "    - encoded_happy.txt\n",
    "    - encoded_sad.txt\n",
    "    - encoded_prank.txt\n",
    "- Nhóm sử dụng file script anotate để tạo thuận tiện cho việc anotate hơn.\n",
    "- Kết quả sau khi anotate là các file:\n",
    "    - final_angry.csv\n",
    "    - final_happy.csv\n",
    "    - final_sad.csv\n",
    "    - final_prank.csv"
   ]
  },
  {
   "cell_type": "code",
   "execution_count": 1,
   "metadata": {},
   "outputs": [],
   "source": [
    "from time import time\n",
    "import string\n",
    "import os\n",
    "from pprint import pprint\n",
    "\n",
    "from sklearn.model_selection import train_test_split\n",
    "from sklearn.feature_extraction.text import CountVectorizer\n",
    "from sklearn.feature_extraction.text import TfidfVectorizer\n",
    "from sklearn.feature_extraction.text import TfidfTransformer\n",
    "from sklearn.pipeline import Pipeline\n",
    "from sklearn.base import BaseEstimator, TransformerMixin\n",
    "from sklearn.compose import ColumnTransformer, make_column_transformer\n",
    "from sklearn.metrics import classification_report\n",
    "from sklearn.pipeline import Pipeline, FeatureUnion, make_pipeline\n",
    "from sklearn.preprocessing import FunctionTransformer\n",
    "from sklearn.model_selection import GridSearchCV\n",
    "\n",
    "from sklearn.naive_bayes import MultinomialNB\n",
    "from sklearn.linear_model import LogisticRegression\n",
    "from sklearn.linear_model import SGDClassifier\n",
    "from sklearn.neural_network import MLPClassifier\n",
    "\n",
    "import codecs\n",
    "import json\n",
    "import re\n",
    "import collections\n",
    "import pandas as pd\n",
    "import numpy as np\n",
    "\n",
    "from nltk.corpus import stopwords\n",
    "\n",
    "import matplotlib.pyplot as plt\n",
    "import seaborn as sns\n",
    "sns.set(style=\"darkgrid\")\n",
    "sns.set(font_scale=1.3)\n",
    "\n",
    "%matplotlib inline"
   ]
  },
  {
   "cell_type": "code",
   "execution_count": 2,
   "metadata": {},
   "outputs": [],
   "source": [
    "f = codecs.open(\"./glove.6B.50d.txt\",\"r\",\"utf-8\")\n",
    "lines = f.readlines()\n",
    "words = [x.split(' ')[0] for x in lines]\n",
    "glove_dict = {}\n",
    "for word in words:\n",
    "    glove_dict[word] = word\n",
    "f.close()\n",
    "# Mở file đang làm dang dở trước đó (nếu có)\n",
    "glove_dict.update(json.loads(open('dictionary.txt', \"r\").read()))"
   ]
  },
  {
   "cell_type": "markdown",
   "metadata": {},
   "source": [
    "- Đầu tiên ta sẽ đọc data đã crawl từ 4 file *final_happy.csv*, *final_angry.csv*, *final_sad.csv*, *final_prank.csv*\n",
    "- Vì đọc các file theo thứ tự nên data sẽ theo được sort theo trình tự happy -> angry -> sad -> prank. Nên ta sẽ shuffle lại data bằng hàm `df.reindex` kết hợp với `np.random.permutation`.\n",
    "- Tiếp tục ta sẽ đổi header cho dễ đọc, dễ xử lý."
   ]
  },
  {
   "cell_type": "code",
   "execution_count": 3,
   "metadata": {},
   "outputs": [
    {
     "name": "stdout",
     "output_type": "stream",
     "text": [
      "<class 'pandas.core.frame.DataFrame'>\n",
      "RangeIndex: 12864 entries, 0 to 12863\n",
      "Data columns (total 2 columns):\n",
      "0    12864 non-null object\n",
      "1    12864 non-null int64\n",
      "dtypes: int64(1), object(1)\n",
      "memory usage: 201.1+ KB\n"
     ]
    }
   ],
   "source": [
    "# Load các file csv vào thành 1 DataFrame\n",
    "happy_train = pd.read_csv('./CrawlComment/final_happy.csv', sep='\\t', header=None)\n",
    "angry_train = pd.read_csv('./CrawlComment/final_angry.csv', sep='\\t', header=None)\n",
    "sad_train = pd.read_csv('./CrawlComment/final_sad.csv', sep='\\t', header=None)\n",
    "prank_train = pd.read_csv('./CrawlComment/final_prank.csv', sep='\\t', header=None)\n",
    "frames = [happy_train, angry_train, sad_train, prank_train]\n",
    "df = pd.concat(frames, ignore_index=True)\n",
    "df.info()\n",
    "\n",
    "df = df.reindex(np.random.permutation(df.index))\n",
    "df = df.rename(columns={0: \"text\", 1: \"emotion\"})"
   ]
  },
  {
   "cell_type": "markdown",
   "metadata": {},
   "source": [
    "## 1. Observation and Preprocessing data"
   ]
  },
  {
   "cell_type": "markdown",
   "metadata": {},
   "source": [
    "- Để biết được phân phối của dataset có đều nhau hay không hay nói cách khác là số lượng các emotion có đều nhau hay không, ta sẽ plot và sinh ra thêm một cột là emotion_label để visualize.\n",
    "- Kết quả cho thấy Sad có số lượng lớn nhất, sau đó đến Neutral, Happy và cuối cùng là Angry.\n",
    "\n",
    "| Emotion      | Emotion Label |\n",
    "| :------------: | :-------------: |\n",
    "| 0            | Neutral       |\n",
    "| 1            | Happy         |\n",
    "| 2            | Angry         |\n",
    "| 3            | Sad           |"
   ]
  },
  {
   "cell_type": "code",
   "execution_count": 4,
   "metadata": {},
   "outputs": [
    {
     "data": {
      "image/png": "[encoded data removed]",
      "text/plain": [
       "<Figure size 345.6x288 with 1 Axes>"
      ]
     },
     "metadata": {
      "needs_background": "light"
     },
     "output_type": "display_data"
    }
   ],
   "source": [
    "mapping = {\n",
    "    3: 'Sad',\n",
    "    0: 'Neutral',\n",
    "    1: 'Happy',\n",
    "    2: 'Angry'\n",
    "}\n",
    "\n",
    "def mappingToEmotion(value):\n",
    "    return mapping[value]\n",
    "\n",
    "df['emotion_label'] = df['emotion'].apply(mappingToEmotion) \n",
    "target_dist = sns.catplot(x=\"emotion_label\", data=df, kind=\"count\", height=4, aspect=1.2)\n",
    "plt.show();"
   ]
  },
  {
   "cell_type": "markdown",
   "metadata": {},
   "source": [
    "Ta xây dựng một lớp `Counting` để rút ra các features từ các sentences:\n",
    "1. count_words: Số lượng từ trong một câu.\n",
    "2. count_capital: Số lượng từ mà viết hoa trong một câu.\n",
    "3. count_excl_quest: Số lượng dấu chấm hỏi và dấu chấm than.\n",
    "4. count_positive_emojis: Số lượng emojis tích cực.\n",
    "5. count_negative_emojis: Số lượng emojis tiêu cực."
   ]
  },
  {
   "cell_type": "code",
   "execution_count": 5,
   "metadata": {},
   "outputs": [],
   "source": [
    "class Counting(BaseEstimator, TransformerMixin):\n",
    "    \n",
    "    def count_regex(self, pattern, sentence):\n",
    "        return len(re.findall(pattern, sentence))\n",
    "    \n",
    "    def fit(self, X, y=None, **fit_params):\n",
    "        return self\n",
    "\n",
    "    def transform(self, X, **transform_params):\n",
    "        count_words = X['text'].apply(lambda x: self.count_regex(r'\\w+', x)) \n",
    "        count_capital = X['text'].apply(lambda x: self.count_regex(r'\\b[A-Z]{2,}\\b', x))\n",
    "        count_excl_quest = X['text'].apply(lambda x: self.count_regex(r'!|\\?', x))\n",
    "        count_positive_emojis = X['text'].apply(lambda x: self.count_regex(r'[:=x][)D]', x))\n",
    "        count_negative_emojis = X['text'].apply(lambda x: self.count_regex(r'[:]\\'?[(]', x))\n",
    "        \n",
    "        df = X.copy()\n",
    "        df['count_words'] = count_words\n",
    "        df['count_capital'] = count_capital\n",
    "        df['count_excl_quest'] = count_excl_quest\n",
    "        df['count_positive_emojis'] = count_positive_emojis\n",
    "        df['count_negative_emojis'] = count_negative_emojis\n",
    "        \n",
    "        return df"
   ]
  },
  {
   "cell_type": "code",
   "execution_count": 6,
   "metadata": {},
   "outputs": [],
   "source": [
    "tc = Counting()\n",
    "df_counts = tc.fit_transform(df)\n",
    "df_counts['emotion_label'] = df['emotion_label']\n",
    "df_counts['emotion'] = df['emotion']"
   ]
  },
  {
   "cell_type": "code",
   "execution_count": 7,
   "metadata": {},
   "outputs": [],
   "source": [
    "def plt_hist(df, col, max_bin=None):\n",
    "    if max_bin == None:\n",
    "        max_bin = df[col].max() + 1\n",
    "    print('Mô tả cho cột {}'.format(col))\n",
    "    print()\n",
    "    print(df.groupby('emotion_label')[col].describe())\n",
    "    bins = np.arange(df[col].min(), max_bin)\n",
    "    g = sns.FacetGrid(df, col='emotion_label', height=5, hue='emotion_label')\n",
    "    g = g.map(sns.distplot, col, kde=False, norm_hist=True, bins=bins)\n",
    "    plt.show()"
   ]
  },
  {
   "cell_type": "code",
   "execution_count": 8,
   "metadata": {},
   "outputs": [
    {
     "name": "stdout",
     "output_type": "stream",
     "text": [
      "Mô tả cho cột count_words\n",
      "\n",
      "                count       mean        std  min  25%  50%   75%    max\n",
      "emotion_label                                                          \n",
      "Angry          2502.0  13.331735  17.268034  0.0  5.0  8.0  15.0  272.0\n",
      "Happy          3128.0   9.584399  14.001390  0.0  3.0  6.0  11.0  372.0\n",
      "Neutral        3436.0  10.584109  15.369232  0.0  5.0  8.0  12.0  501.0\n",
      "Sad            3798.0  12.285677  16.344083  0.0  5.0  8.0  14.0  288.0\n"
     ]
    },
    {
     "data": {
      "image/png": "[encoded data removed]",
      "text/plain": [
       "<Figure size 1440x360 with 4 Axes>"
      ]
     },
     "metadata": {
      "needs_background": "light"
     },
     "output_type": "display_data"
    }
   ],
   "source": [
    "plt_hist(df_counts, col='count_words', max_bin=50)"
   ]
  },
  {
   "cell_type": "code",
   "execution_count": 9,
   "metadata": {},
   "outputs": [
    {
     "name": "stdout",
     "output_type": "stream",
     "text": [
      "Mô tả cho cột count_positive_emojis\n",
      "\n",
      "                count      mean       std  min  25%  50%  75%   max\n",
      "emotion_label                                                      \n",
      "Angry          2502.0  0.003197  0.056467  0.0  0.0  0.0  0.0   1.0\n",
      "Happy          3128.0  0.073210  0.351449  0.0  0.0  0.0  0.0  11.0\n",
      "Neutral        3436.0  0.004366  0.065937  0.0  0.0  0.0  0.0   1.0\n",
      "Sad            3798.0  0.003686  0.064809  0.0  0.0  0.0  0.0   2.0\n"
     ]
    },
    {
     "data": {
      "image/png": "[encoded data removed]",
      "text/plain": [
       "<Figure size 1440x360 with 4 Axes>"
      ]
     },
     "metadata": {
      "needs_background": "light"
     },
     "output_type": "display_data"
    }
   ],
   "source": [
    "plt_hist(df_counts, col='count_positive_emojis', max_bin=5)"
   ]
  },
  {
   "cell_type": "code",
   "execution_count": 10,
   "metadata": {},
   "outputs": [
    {
     "name": "stdout",
     "output_type": "stream",
     "text": [
      "Mô tả cho cột count_negative_emojis\n",
      "\n",
      "                count      mean       std  min  25%  50%  75%  max\n",
      "emotion_label                                                     \n",
      "Angry          2502.0  0.000799  0.028267  0.0  0.0  0.0  0.0  1.0\n",
      "Happy          3128.0  0.000320  0.017880  0.0  0.0  0.0  0.0  1.0\n",
      "Neutral        3436.0  0.000000  0.000000  0.0  0.0  0.0  0.0  0.0\n",
      "Sad            3798.0  0.017378  0.138517  0.0  0.0  0.0  0.0  3.0\n"
     ]
    },
    {
     "data": {
      "image/png": "[encoded data removed]",
      "text/plain": [
       "<Figure size 1440x360 with 4 Axes>"
      ]
     },
     "metadata": {
      "needs_background": "light"
     },
     "output_type": "display_data"
    }
   ],
   "source": [
    "plt_hist(df_counts, col='count_negative_emojis', max_bin=5)"
   ]
  },
  {
   "cell_type": "code",
   "execution_count": 11,
   "metadata": {},
   "outputs": [
    {
     "name": "stdout",
     "output_type": "stream",
     "text": [
      "Mô tả cho cột count_excl_quest\n",
      "\n",
      "                count      mean       std  min  25%  50%  75%   max\n",
      "emotion_label                                                      \n",
      "Angry          2502.0  0.578737  2.812265  0.0  0.0  0.0  0.0  82.0\n",
      "Happy          3128.0  0.510230  1.992123  0.0  0.0  0.0  0.0  64.0\n",
      "Neutral        3436.0  0.304715  0.913104  0.0  0.0  0.0  0.0  12.0\n",
      "Sad            3798.0  0.291732  1.125840  0.0  0.0  0.0  0.0  36.0\n"
     ]
    },
    {
     "data": {
      "image/png": "[encoded data removed]",
      "text/plain": [
       "<Figure size 1440x360 with 4 Axes>"
      ]
     },
     "metadata": {
      "needs_background": "light"
     },
     "output_type": "display_data"
    }
   ],
   "source": [
    "plt_hist(df_counts, col='count_excl_quest', max_bin=5)"
   ]
  },
  {
   "cell_type": "code",
   "execution_count": 12,
   "metadata": {},
   "outputs": [
    {
     "name": "stdout",
     "output_type": "stream",
     "text": [
      "Mô tả cho cột count_capital\n",
      "\n",
      "                count      mean       std  min  25%  50%  75%    max\n",
      "emotion_label                                                       \n",
      "Angry          2502.0  0.757394  4.060800  0.0  0.0  0.0  0.0  110.0\n",
      "Happy          3128.0  0.270460  1.530961  0.0  0.0  0.0  0.0   35.0\n",
      "Neutral        3436.0  0.336438  1.645697  0.0  0.0  0.0  0.0   40.0\n",
      "Sad            3798.0  0.406793  2.340993  0.0  0.0  0.0  0.0   97.0\n"
     ]
    },
    {
     "data": {
      "image/png": "[encoded data removed]",
      "text/plain": [
       "<Figure size 1440x360 with 4 Axes>"
      ]
     },
     "metadata": {
      "needs_background": "light"
     },
     "output_type": "display_data"
    }
   ],
   "source": [
    "plt_hist(df_counts, col='count_capital', max_bin=5)"
   ]
  },
  {
   "cell_type": "markdown",
   "metadata": {},
   "source": [
    "### Nhận xét\n",
    "- `count_words`: Ta có thể thấy, những câu angry thường có số lượng từ nhiều hơn.\n",
    "- `count_positive_emojis`: Đúng như nhóm dự đoán, những emoji tích cực sẽ tập trung ở label happy nhiều nhất, nhưng ở mỗi câu thì sẽ không chắc có emoji nên ở happy `mean` = 0.073\n",
    "- `count_negative_emojis`: Tương tự như positive emojis, negative emoji sẽ tập trung ở sad nhiều nhất, `mean` = 0.017\n",
    "- `count_excl_quest` và `count_capital`: Số lượng dấu chấm hỏi, dấu chấm than, và số lượng từ được in hoa sẽ xuất hiện nhiều nhất hơn emotion angry.\n",
    "\n",
    "Nhóm sẽ quyết định giữ lại 5 thuộc tính này cho việc prediction."
   ]
  },
  {
   "cell_type": "markdown",
   "metadata": {},
   "source": [
    "### Clean the sentence\n",
    "\n",
    "Sau khi có nhiều góc nhìn về dữ liệu và extract được 5 feature ở trên. Nhóm quyết định sử dụng tư tưởng Bag Of Word (BOW) để áp dụng vào field `text`. Nhưng với field `text` hiện tại có những bất cập:\n",
    "   - Kí tự đặc biệt, số,...\n",
    "   - Viết tắt: \"omg\", \"asap\", \"tbh\", ...\n",
    "   - Viết sai chính tả\n",
    "   - Viết nhảm (spam)\n",
    "   - Có tên người\n",
    "   - ...\n",
    "\n",
    "Các bước chuẩn bị dữ liệu:\n",
    "- Chuyển tất cả thành chữ thường\n",
    "- Chỉ giữa các kí tự, xóa các kí tự đặc biệt và số, xóa các dòng text là rỗng\n",
    "- Chuyển những từ sai chính tả thành những từ map với `glove_dict`, nếu từ đó không có trong `glove_dict`, nhóm sẽ nhập tay.\n",
    "- Xóa tất cả các stop words dựa vào thư viện `nltk.corpus`."
   ]
  },
  {
   "cell_type": "code",
   "execution_count": 13,
   "metadata": {},
   "outputs": [],
   "source": [
    "class MakeCleanText(BaseEstimator, TransformerMixin):\n",
    "    def normalize(self, x):\n",
    "        try:\n",
    "            x = x.lower().strip()\n",
    "        except:\n",
    "            return ''\n",
    "        ans = ''\n",
    "        for i in x:\n",
    "            if 'a' <= i <= 'z' or i == ' ':\n",
    "                ans += i\n",
    "        return ans\n",
    "    \n",
    "    def keep_clean(self, sentence):\n",
    "        sentence = sentence.strip()\n",
    "        return ' '.join(sentence.split())\n",
    "    \n",
    "    def only_keep_alphabets(self, sentence):\n",
    "        return self.normalize(sentence)\n",
    "    \n",
    "    def remove_spaces(self, sentence):\n",
    "        return self.keep_clean(sentence)\n",
    "    \n",
    "    def translate_unknow_word(self, sentence):\n",
    "        new_line = ''\n",
    "        for word in sentence.split():\n",
    "            if word not in glove_dict:\n",
    "                print(word)\n",
    "                glove_dict[word] = input(word + ' ')\n",
    "                open(\"dictionary.txt\", \"w\").write(json.dumps(glove_dict))\n",
    "            else:\n",
    "                new_line += ' ' + glove_dict[word]\n",
    "\n",
    "        return new_line\n",
    "    \n",
    "    def remove_stop_word(self, sentence):\n",
    "        stopwords_list = stopwords.words('english')\n",
    "        words = sentence.split()\n",
    "        keep_words = ['no']\n",
    "        clean_words = [word for word in words if (word not in stopwords_list or word in keep_words) and len(word) > 1]\n",
    "        return \" \".join(clean_words)\n",
    "    \n",
    "    def fit(self, X, y=None):\n",
    "        return self\n",
    "    \n",
    "    def transform(self, X, y=None):\n",
    "        X_new = X.copy()\n",
    "        \n",
    "        clean_texts = X_new['text'].apply(self.only_keep_alphabets).apply(self.translate_unknow_word).apply(self.only_keep_alphabets).apply(self.remove_spaces).apply(self.remove_stop_word)\n",
    "        \n",
    "        X_new['clean_text'] = clean_texts\n",
    "        \n",
    "        return X_new\n",
    "\n",
    "class FilterEmptyText(BaseEstimator, TransformerMixin):\n",
    "    def __init__(self):\n",
    "        pass\n",
    "    \n",
    "    def fit(self, X, y=None):\n",
    "        return self\n",
    "    \n",
    "    def transform(self, X, y=None):\n",
    "        return X.drop(X[X.clean_text == ''].index)"
   ]
  },
  {
   "cell_type": "markdown",
   "metadata": {},
   "source": [
    "Vì sau khi đã bỏ stop word nên sẽ có vài sentences không có từ nào trong câu. Trong pipeline nhóm đã thêm một class FilterEmptyText để lọc bỏ tất cả những câu rỗng. Sau đó transform dữ liệu và lưu trong field `clean_text` của df."
   ]
  },
  {
   "cell_type": "code",
   "execution_count": 14,
   "metadata": {},
   "outputs": [],
   "source": [
    "preprocess = Pipeline([\n",
    "    ('mkclean', MakeCleanText()),\n",
    "    ('rmempty', FilterEmptyText())\n",
    "])\n",
    "\n",
    "preprocess_df = preprocess.fit_transform(df)"
   ]
  },
  {
   "cell_type": "code",
   "execution_count": 15,
   "metadata": {},
   "outputs": [
    {
     "data": {
      "text/html": [
       "<div>\n",
       "<style scoped>\n",
       "    .dataframe tbody tr th:only-of-type {\n",
       "        vertical-align: middle;\n",
       "    }\n",
       "\n",
       "    .dataframe tbody tr th {\n",
       "        vertical-align: top;\n",
       "    }\n",
       "\n",
       "    .dataframe thead th {\n",
       "        text-align: right;\n",
       "    }\n",
       "</style>\n",
       "<table border=\"1\" class=\"dataframe\">\n",
       "  <thead>\n",
       "    <tr style=\"text-align: right;\">\n",
       "      <th></th>\n",
       "      <th>text</th>\n",
       "      <th>emotion</th>\n",
       "      <th>emotion_label</th>\n",
       "      <th>clean_text</th>\n",
       "    </tr>\n",
       "  </thead>\n",
       "  <tbody>\n",
       "    <tr>\n",
       "      <td>8227</td>\n",
       "      <td>I learned my lesson</td>\n",
       "      <td>1</td>\n",
       "      <td>Happy</td>\n",
       "      <td>learned lesson</td>\n",
       "    </tr>\n",
       "    <tr>\n",
       "      <td>7274</td>\n",
       "      <td>If anyone is alone like me the hit the like</td>\n",
       "      <td>2</td>\n",
       "      <td>Angry</td>\n",
       "      <td>anyone alone like hit like</td>\n",
       "    </tr>\n",
       "    <tr>\n",
       "      <td>9663</td>\n",
       "      <td>Such a cute couple, I do the same thing with m...</td>\n",
       "      <td>2</td>\n",
       "      <td>Angry</td>\n",
       "      <td>cute couple thing boyfriend ignores lol know s...</td>\n",
       "    </tr>\n",
       "    <tr>\n",
       "      <td>6800</td>\n",
       "      <td>that really make my heart cry</td>\n",
       "      <td>3</td>\n",
       "      <td>Sad</td>\n",
       "      <td>really make heart cry</td>\n",
       "    </tr>\n",
       "    <tr>\n",
       "      <td>12099</td>\n",
       "      <td>I was watching porn</td>\n",
       "      <td>0</td>\n",
       "      <td>Neutral</td>\n",
       "      <td>watching porn</td>\n",
       "    </tr>\n",
       "  </tbody>\n",
       "</table>\n",
       "</div>"
      ],
      "text/plain": [
       "                                                    text  emotion  \\\n",
       "8227                                I learned my lesson         1   \n",
       "7274         If anyone is alone like me the hit the like        2   \n",
       "9663   Such a cute couple, I do the same thing with m...        2   \n",
       "6800                       that really make my heart cry        3   \n",
       "12099                               I was watching porn         0   \n",
       "\n",
       "      emotion_label                                         clean_text  \n",
       "8227          Happy                                     learned lesson  \n",
       "7274          Angry                         anyone alone like hit like  \n",
       "9663          Angry  cute couple thing boyfriend ignores lol know s...  \n",
       "6800            Sad                              really make heart cry  \n",
       "12099       Neutral                                      watching porn  "
      ]
     },
     "execution_count": 15,
     "metadata": {},
     "output_type": "execute_result"
    }
   ],
   "source": [
    "preprocess_df.head()"
   ]
  },
  {
   "cell_type": "markdown",
   "metadata": {},
   "source": [
    "Để có cái nhìn rõ hơn về tần suất xuất hiện của các từ trong dataset, nhóm visualize lại biểu đồ cột, trục x là trục biểu thị cho loại từ và y là số lần từ đó xuất hiện trong dataset."
   ]
  },
  {
   "cell_type": "code",
   "execution_count": 16,
   "metadata": {},
   "outputs": [
    {
     "data": {
      "image/png": "[encoded data removed]",
      "text/plain": [
       "<Figure size 1152x576 with 1 Axes>"
      ]
     },
     "metadata": {
      "needs_background": "light"
     },
     "output_type": "display_data"
    }
   ],
   "source": [
    "sr_clean = preprocess_df['clean_text']\n",
    "\n",
    "count_vect = CountVectorizer()\n",
    "bow = count_vect.fit_transform(sr_clean.values.astype('U'))\n",
    "word_freq = dict(zip(count_vect.get_feature_names(), np.asarray(bow.sum(axis=0)).ravel()))\n",
    "word_counter = collections.Counter(word_freq)\n",
    "word_counter_df = pd.DataFrame(word_counter.most_common(20), columns = ['word', 'freq'])\n",
    "\n",
    "fig, ax = plt.subplots(figsize=(16, 8))\n",
    "bar_freq_word = sns.barplot(x=\"word\", y=\"freq\", data=word_counter_df, palette=\"GnBu_d\", ax=ax)\n",
    "plt.show();"
   ]
  },
  {
   "cell_type": "code",
   "execution_count": 17,
   "metadata": {},
   "outputs": [],
   "source": [
    "preprocess_model = Pipeline(\n",
    "    steps=[\n",
    "        ('counting', Counting()),\n",
    "        ('mkclean', MakeCleanText()),\n",
    "        ('rmempty', FilterEmptyText())\n",
    "    ]\n",
    ")\n",
    "X = preprocess_model.fit_transform(df)"
   ]
  },
  {
   "cell_type": "code",
   "execution_count": 18,
   "metadata": {},
   "outputs": [
    {
     "data": {
      "text/html": [
       "<div>\n",
       "<style scoped>\n",
       "    .dataframe tbody tr th:only-of-type {\n",
       "        vertical-align: middle;\n",
       "    }\n",
       "\n",
       "    .dataframe tbody tr th {\n",
       "        vertical-align: top;\n",
       "    }\n",
       "\n",
       "    .dataframe thead th {\n",
       "        text-align: right;\n",
       "    }\n",
       "</style>\n",
       "<table border=\"1\" class=\"dataframe\">\n",
       "  <thead>\n",
       "    <tr style=\"text-align: right;\">\n",
       "      <th></th>\n",
       "      <th>text</th>\n",
       "      <th>emotion</th>\n",
       "      <th>emotion_label</th>\n",
       "      <th>count_words</th>\n",
       "      <th>count_capital</th>\n",
       "      <th>count_excl_quest</th>\n",
       "      <th>count_positive_emojis</th>\n",
       "      <th>count_negative_emojis</th>\n",
       "      <th>clean_text</th>\n",
       "    </tr>\n",
       "  </thead>\n",
       "  <tbody>\n",
       "    <tr>\n",
       "      <td>9023</td>\n",
       "      <td>I dont know whats worse the fact that his name...</td>\n",
       "      <td>0</td>\n",
       "      <td>Neutral</td>\n",
       "      <td>17</td>\n",
       "      <td>0</td>\n",
       "      <td>0</td>\n",
       "      <td>0</td>\n",
       "      <td>0</td>\n",
       "      <td>know whats worse fact name zeus puka shell nec...</td>\n",
       "    </tr>\n",
       "    <tr>\n",
       "      <td>8107</td>\n",
       "      <td>I didnt cry but this was the cutest thing ever</td>\n",
       "      <td>3</td>\n",
       "      <td>Sad</td>\n",
       "      <td>10</td>\n",
       "      <td>0</td>\n",
       "      <td>0</td>\n",
       "      <td>0</td>\n",
       "      <td>0</td>\n",
       "      <td>cry cutest thing ever</td>\n",
       "    </tr>\n",
       "    <tr>\n",
       "      <td>10148</td>\n",
       "      <td>I tried doing that my girl left me.</td>\n",
       "      <td>3</td>\n",
       "      <td>Sad</td>\n",
       "      <td>8</td>\n",
       "      <td>0</td>\n",
       "      <td>0</td>\n",
       "      <td>0</td>\n",
       "      <td>0</td>\n",
       "      <td>tried girl left</td>\n",
       "    </tr>\n",
       "    <tr>\n",
       "      <td>10940</td>\n",
       "      <td>How do you not have 500 ML subscriber</td>\n",
       "      <td>3</td>\n",
       "      <td>Sad</td>\n",
       "      <td>8</td>\n",
       "      <td>1</td>\n",
       "      <td>0</td>\n",
       "      <td>0</td>\n",
       "      <td>0</td>\n",
       "      <td>ml subscriber</td>\n",
       "    </tr>\n",
       "    <tr>\n",
       "      <td>687</td>\n",
       "      <td>I enjoy your music. It makes me relax. Thank you.</td>\n",
       "      <td>1</td>\n",
       "      <td>Happy</td>\n",
       "      <td>10</td>\n",
       "      <td>0</td>\n",
       "      <td>0</td>\n",
       "      <td>0</td>\n",
       "      <td>0</td>\n",
       "      <td>enjoy music makes relax thank</td>\n",
       "    </tr>\n",
       "  </tbody>\n",
       "</table>\n",
       "</div>"
      ],
      "text/plain": [
       "                                                    text  emotion  \\\n",
       "9023   I dont know whats worse the fact that his name...        0   \n",
       "8107      I didnt cry but this was the cutest thing ever        3   \n",
       "10148                I tried doing that my girl left me.        3   \n",
       "10940              How do you not have 500 ML subscriber        3   \n",
       "687    I enjoy your music. It makes me relax. Thank you.        1   \n",
       "\n",
       "      emotion_label  count_words  count_capital  count_excl_quest  \\\n",
       "9023        Neutral           17              0                 0   \n",
       "8107            Sad           10              0                 0   \n",
       "10148           Sad            8              0                 0   \n",
       "10940           Sad            8              1                 0   \n",
       "687           Happy           10              0                 0   \n",
       "\n",
       "       count_positive_emojis  count_negative_emojis  \\\n",
       "9023                       0                      0   \n",
       "8107                       0                      0   \n",
       "10148                      0                      0   \n",
       "10940                      0                      0   \n",
       "687                        0                      0   \n",
       "\n",
       "                                              clean_text  \n",
       "9023   know whats worse fact name zeus puka shell nec...  \n",
       "8107                               cry cutest thing ever  \n",
       "10148                                    tried girl left  \n",
       "10940                                      ml subscriber  \n",
       "687                        enjoy music makes relax thank  "
      ]
     },
     "execution_count": 18,
     "metadata": {},
     "output_type": "execute_result"
    }
   ],
   "source": [
    "y = X['emotion']\n",
    "X.drop(columns=['emotion'])\n",
    "\n",
    "X_train, X_test, y_train, y_test = train_test_split(\n",
    "    X, y, test_size=0.2, random_state=42, shuffle=True)\n",
    "\n",
    "X_train.head()"
   ]
  },
  {
   "cell_type": "markdown",
   "metadata": {},
   "source": [
    "### 2. Xây dựng model\n",
    "1. Đầu tiên, nhóm ghép các csv đã annotate vào một df bằng lệnh `pd.concat(frames)`\n",
    "2. Sau đó, nhóm split thành 4 tập `X_train, X_test, y_train, y_test`, train và test theo tỉ lệ 7/3, có shuffle.\n",
    "3. Sử dụng tư tưởng `Bag Of Word` để xây dựng feature cho model, nhóm sử dụng `CountVectorize()` để xây dựng feature đó trên tập X_train. Lưu feature đó vào tập `X_train_counts`.\n",
    "4. Vì không thể lấy số lượng chữ để train, vì nếu gặp văn bản có nhiều word so với văn bản có ít word sẽ có sự khác nhau rất lớn mặc dù về label sẽ không có sự khác nhau. Nên ta quy feature về tần suất xuất hiện của các word trong văn bản. Nhóm sử dụng `TfidfTransformer()` để transform từ số lượng word xuất hiện qua tần suất. Sau đó lưu vào ma trận tần suất `X_train_tfidf`.\n",
    "5. Sau đó nhóm sử dụng ma trận tần suất `X_train_tfidf` để feed qua một lớp classifier để phân loại. Ở đây nhóm sử dụng `SGDClassifier` để phân loại."
   ]
  },
  {
   "cell_type": "code",
   "execution_count": 19,
   "metadata": {},
   "outputs": [],
   "source": [
    "class ColumnExtractor(TransformerMixin, BaseEstimator):\n",
    "    def __init__(self, cols):\n",
    "        self.cols = cols\n",
    "\n",
    "    def transform(self, X, **transform_params):\n",
    "        return X[self.cols]\n",
    "\n",
    "    def fit(self, X, y=None, **fit_params):\n",
    "        return self"
   ]
  },
  {
   "cell_type": "code",
   "execution_count": 20,
   "metadata": {},
   "outputs": [],
   "source": [
    "def grid_vect(clf, parameters_clf, X_train, X_test, parameters_text=None, vect=None):\n",
    "    \n",
    "    textcountscols = [\n",
    "        'count_negative_emojis',\n",
    "        'count_positive_emojis',\n",
    "        'count_excl_quest',\n",
    "        'count_capital',\n",
    "        'count_words'\n",
    "    ]\n",
    "    \n",
    "    # Tạo pipeline chuyển 'clean_text' sang BOW hay TFIDF\n",
    "    cleanTextPipeline = Pipeline(\n",
    "        steps=[\n",
    "            ('cleantext', ColumnExtractor(cols='clean_text')), \n",
    "            ('vect', vect)\n",
    "        ]\n",
    "    )\n",
    "    \n",
    "    features = FeatureUnion(\n",
    "        transformer_list=[\n",
    "            ('textcounts', ColumnExtractor(cols=textcountscols)), \n",
    "            ('pipe', cleanTextPipeline)\n",
    "        ],\n",
    "        \n",
    "        # Sử dụng tất cả CPUs\n",
    "        n_jobs=-1\n",
    "    )\n",
    "\n",
    "    \n",
    "    pipeline = Pipeline([\n",
    "        ('features', features),\n",
    "        ('clf', clf)\n",
    "    ])\n",
    "    \n",
    "    # Kết hợp parameters_text (của BOW hay TTFIDF) và parameters_clf (hyper parameter của classifier)\n",
    "    parameters = dict()\n",
    "    if parameters_text:\n",
    "        parameters.update(parameters_text)\n",
    "    parameters.update(parameters_clf)\n",
    "\n",
    "    grid_search = GridSearchCV(pipeline, parameters, n_jobs=-1, verbose=1, cv=5)\n",
    "    \n",
    "    print(\"Performing grid search...\")\n",
    "    print(\"pipeline:\", [name for name, _ in pipeline.steps])\n",
    "    print(\"parameters:\")\n",
    "    pprint(parameters)\n",
    "\n",
    "    t0 = time()\n",
    "    grid_search.fit(X_train, y_train)\n",
    "    print(\"done in %0.3fs\" % (time() - t0))\n",
    "    print()\n",
    "\n",
    "    # Best CV score = mean(cross-validated scored of best estimator)\n",
    "    print(\"Best CV score: %0.3f\" % grid_search.best_score_)\n",
    "    print(\"Best parameters set:\")\n",
    "    best_parameters = grid_search.best_estimator_.get_params()\n",
    "    for param_name in sorted(parameters.keys()):\n",
    "        print(\"\\t%s: %r\" % (param_name, best_parameters[param_name]))\n",
    "        \n",
    "    print(\"Test score with best_estimator_: %0.3f\" % grid_search.best_estimator_.score(X_test, y_test))\n",
    "    print(\"\\n\")\n",
    "    print(\"Classification Report Test Data\")\n",
    "    print(classification_report(y_test, grid_search.best_estimator_.predict(X_test)))\n",
    "                        \n",
    "    return grid_search"
   ]
  },
  {
   "cell_type": "code",
   "execution_count": 21,
   "metadata": {},
   "outputs": [],
   "source": [
    "parameters_vect = {\n",
    "    'features__pipe__vect__max_df': (0.25, 0.5, 0.75),\n",
    "    'features__pipe__vect__ngram_range': ((1, 1), (1, 2)),\n",
    "    'features__pipe__vect__min_df': (1,2)\n",
    "}\n",
    "\n",
    "\n",
    "parameters_mnb = {\n",
    "    'clf__alpha': (0.25, 0.5, 0.75)\n",
    "}\n",
    "\n",
    "\n",
    "parameters_logreg = {\n",
    "    # Inverse of regularization strength; must be a positive float. Like in support vector machines, \n",
    "    # smaller values specify stronger regularization.\n",
    "    'clf__C': (0.5, 1.0),\n",
    "}\n",
    "\n",
    "parameters_sgd = {\n",
    "    'clf__alpha': (1e-3, 1e-4),\n",
    "    'clf__loss': ('hinge', 'log')\n",
    "}"
   ]
  },
  {
   "cell_type": "code",
   "execution_count": 22,
   "metadata": {},
   "outputs": [],
   "source": [
    "mnb = MultinomialNB()\n",
    "logreg = LogisticRegression(max_iter=100, penalty='l2')\n",
    "sgd = SGDClassifier(max_iter=100, penalty='l2')\n",
    "\n",
    "countvect = CountVectorizer()\n",
    "tfidfvect = TfidfVectorizer()"
   ]
  },
  {
   "cell_type": "code",
   "execution_count": 23,
   "metadata": {},
   "outputs": [
    {
     "name": "stdout",
     "output_type": "stream",
     "text": [
      "Performing grid search...\n",
      "pipeline: ['features', 'clf']\n",
      "parameters:\n",
      "{'clf__alpha': (0.25, 0.5, 0.75),\n",
      " 'features__pipe__vect__max_df': (0.25, 0.5, 0.75),\n",
      " 'features__pipe__vect__min_df': (1, 2),\n",
      " 'features__pipe__vect__ngram_range': ((1, 1), (1, 2))}\n",
      "Fitting 5 folds for each of 36 candidates, totalling 180 fits\n"
     ]
    },
    {
     "name": "stderr",
     "output_type": "stream",
     "text": [
      "[Parallel(n_jobs=-1)]: Using backend LokyBackend with 4 concurrent workers.\n",
      "[Parallel(n_jobs=-1)]: Done  42 tasks      | elapsed:   10.8s\n",
      "[Parallel(n_jobs=-1)]: Done 180 out of 180 | elapsed:   35.8s finished\n"
     ]
    },
    {
     "name": "stdout",
     "output_type": "stream",
     "text": [
      "done in 36.736s\n",
      "\n",
      "Best CV score: 0.617\n",
      "Best parameters set:\n",
      "\tclf__alpha: 0.5\n",
      "\tfeatures__pipe__vect__max_df: 0.25\n",
      "\tfeatures__pipe__vect__min_df: 2\n",
      "\tfeatures__pipe__vect__ngram_range: (1, 2)\n",
      "Test score with best_estimator_: 0.616\n",
      "\n",
      "\n",
      "Classification Report Test Data\n",
      "              precision    recall  f1-score   support\n",
      "\n",
      "           0       0.59      0.56      0.58       668\n",
      "           1       0.71      0.66      0.68       618\n",
      "           2       0.53      0.52      0.53       498\n",
      "           3       0.62      0.69      0.65       734\n",
      "\n",
      "    accuracy                           0.62      2518\n",
      "   macro avg       0.61      0.61      0.61      2518\n",
      "weighted avg       0.62      0.62      0.62      2518\n",
      "\n"
     ]
    }
   ],
   "source": [
    "best_mnb_countvect = grid_vect(mnb, parameters_mnb, X_train, X_test, parameters_text=parameters_vect, vect=countvect)"
   ]
  },
  {
   "cell_type": "code",
   "execution_count": 24,
   "metadata": {},
   "outputs": [
    {
     "name": "stdout",
     "output_type": "stream",
     "text": [
      "Performing grid search...\n",
      "pipeline: ['features', 'clf']\n",
      "parameters:\n",
      "{'clf__C': (0.5, 1.0),\n",
      " 'features__pipe__vect__max_df': (0.25, 0.5, 0.75),\n",
      " 'features__pipe__vect__min_df': (1, 2),\n",
      " 'features__pipe__vect__ngram_range': ((1, 1), (1, 2))}\n",
      "Fitting 5 folds for each of 24 candidates, totalling 120 fits\n"
     ]
    },
    {
     "name": "stderr",
     "output_type": "stream",
     "text": [
      "[Parallel(n_jobs=-1)]: Using backend LokyBackend with 4 concurrent workers.\n",
      "[Parallel(n_jobs=-1)]: Done  42 tasks      | elapsed:   47.8s\n",
      "[Parallel(n_jobs=-1)]: Done 120 out of 120 | elapsed:  2.3min finished\n",
      "C:\\Users\\LAP11121-local\\Anaconda3\\lib\\site-packages\\sklearn\\linear_model\\logistic.py:947: ConvergenceWarning: lbfgs failed to converge. Increase the number of iterations.\n",
      "  \"of iterations.\", ConvergenceWarning)\n"
     ]
    },
    {
     "name": "stdout",
     "output_type": "stream",
     "text": [
      "done in 143.080s\n",
      "\n",
      "Best CV score: 0.610\n",
      "Best parameters set:\n",
      "\tclf__C: 0.5\n",
      "\tfeatures__pipe__vect__max_df: 0.25\n",
      "\tfeatures__pipe__vect__min_df: 2\n",
      "\tfeatures__pipe__vect__ngram_range: (1, 2)\n",
      "Test score with best_estimator_: 0.620\n",
      "\n",
      "\n",
      "Classification Report Test Data\n",
      "              precision    recall  f1-score   support\n",
      "\n",
      "           0       0.53      0.68      0.60       668\n",
      "           1       0.64      0.71      0.67       618\n",
      "           2       0.64      0.43      0.52       498\n",
      "           3       0.70      0.62      0.66       734\n",
      "\n",
      "    accuracy                           0.62      2518\n",
      "   macro avg       0.63      0.61      0.61      2518\n",
      "weighted avg       0.63      0.62      0.62      2518\n",
      "\n"
     ]
    }
   ],
   "source": [
    "best_logreg_countvect = grid_vect(logreg, parameters_logreg, X_train, X_test, parameters_text=parameters_vect, vect=countvect)"
   ]
  },
  {
   "cell_type": "code",
   "execution_count": 25,
   "metadata": {},
   "outputs": [
    {
     "name": "stdout",
     "output_type": "stream",
     "text": [
      "Performing grid search...\n",
      "pipeline: ['features', 'clf']\n",
      "parameters:\n",
      "{'clf__alpha': (0.001, 0.0001),\n",
      " 'clf__loss': ('hinge', 'log'),\n",
      " 'features__pipe__vect__max_df': (0.25, 0.5, 0.75),\n",
      " 'features__pipe__vect__min_df': (1, 2),\n",
      " 'features__pipe__vect__ngram_range': ((1, 1), (1, 2))}\n",
      "Fitting 5 folds for each of 48 candidates, totalling 240 fits\n"
     ]
    },
    {
     "name": "stderr",
     "output_type": "stream",
     "text": [
      "[Parallel(n_jobs=-1)]: Using backend LokyBackend with 4 concurrent workers.\n",
      "[Parallel(n_jobs=-1)]: Done  42 tasks      | elapsed:   15.4s\n",
      "[Parallel(n_jobs=-1)]: Done 192 tasks      | elapsed:   55.6s\n",
      "[Parallel(n_jobs=-1)]: Done 240 out of 240 | elapsed:  1.2min finished\n"
     ]
    },
    {
     "name": "stdout",
     "output_type": "stream",
     "text": [
      "done in 72.832s\n",
      "\n",
      "Best CV score: 0.620\n",
      "Best parameters set:\n",
      "\tclf__alpha: 0.0001\n",
      "\tclf__loss: 'log'\n",
      "\tfeatures__pipe__vect__max_df: 0.75\n",
      "\tfeatures__pipe__vect__min_df: 1\n",
      "\tfeatures__pipe__vect__ngram_range: (1, 2)\n",
      "Test score with best_estimator_: 0.639\n",
      "\n",
      "\n",
      "Classification Report Test Data\n",
      "              precision    recall  f1-score   support\n",
      "\n",
      "           0       0.55      0.71      0.62       668\n",
      "           1       0.69      0.68      0.68       618\n",
      "           2       0.58      0.52      0.55       498\n",
      "           3       0.75      0.63      0.68       734\n",
      "\n",
      "    accuracy                           0.64      2518\n",
      "   macro avg       0.64      0.63      0.63      2518\n",
      "weighted avg       0.65      0.64      0.64      2518\n",
      "\n"
     ]
    }
   ],
   "source": [
    "best_sgd_countvect = grid_vect(sgd, parameters_sgd, X_train, X_test, parameters_text=parameters_vect, vect=countvect)"
   ]
  },
  {
   "cell_type": "code",
   "execution_count": 26,
   "metadata": {},
   "outputs": [
    {
     "name": "stdout",
     "output_type": "stream",
     "text": [
      "Performing grid search...\n",
      "pipeline: ['features', 'clf']\n",
      "parameters:\n",
      "{'clf__alpha': (0.25, 0.5, 0.75),\n",
      " 'features__pipe__vect__max_df': (0.25, 0.5, 0.75),\n",
      " 'features__pipe__vect__min_df': (1, 2),\n",
      " 'features__pipe__vect__ngram_range': ((1, 1), (1, 2))}\n",
      "Fitting 5 folds for each of 36 candidates, totalling 180 fits\n"
     ]
    },
    {
     "name": "stderr",
     "output_type": "stream",
     "text": [
      "[Parallel(n_jobs=-1)]: Using backend LokyBackend with 4 concurrent workers.\n",
      "[Parallel(n_jobs=-1)]: Done  42 tasks      | elapsed:    6.7s\n",
      "[Parallel(n_jobs=-1)]: Done 180 out of 180 | elapsed:   27.8s finished\n"
     ]
    },
    {
     "name": "stdout",
     "output_type": "stream",
     "text": [
      "done in 28.907s\n",
      "\n",
      "Best CV score: 0.605\n",
      "Best parameters set:\n",
      "\tclf__alpha: 0.25\n",
      "\tfeatures__pipe__vect__max_df: 0.25\n",
      "\tfeatures__pipe__vect__min_df: 2\n",
      "\tfeatures__pipe__vect__ngram_range: (1, 2)\n",
      "Test score with best_estimator_: 0.601\n",
      "\n",
      "\n",
      "Classification Report Test Data\n",
      "              precision    recall  f1-score   support\n",
      "\n",
      "           0       0.55      0.56      0.56       668\n",
      "           1       0.73      0.65      0.69       618\n",
      "           2       0.54      0.44      0.48       498\n",
      "           3       0.59      0.71      0.64       734\n",
      "\n",
      "    accuracy                           0.60      2518\n",
      "   macro avg       0.60      0.59      0.59      2518\n",
      "weighted avg       0.60      0.60      0.60      2518\n",
      "\n"
     ]
    }
   ],
   "source": [
    "best_mnb_tfidf = grid_vect(mnb, parameters_mnb, X_train, X_test, parameters_text=parameters_vect, vect=tfidfvect)"
   ]
  },
  {
   "cell_type": "code",
   "execution_count": 27,
   "metadata": {},
   "outputs": [
    {
     "name": "stdout",
     "output_type": "stream",
     "text": [
      "Performing grid search...\n",
      "pipeline: ['features', 'clf']\n",
      "parameters:\n",
      "{'clf__C': (0.5, 1.0),\n",
      " 'features__pipe__vect__max_df': (0.25, 0.5, 0.75),\n",
      " 'features__pipe__vect__min_df': (1, 2),\n",
      " 'features__pipe__vect__ngram_range': ((1, 1), (1, 2))}\n",
      "Fitting 5 folds for each of 24 candidates, totalling 120 fits\n"
     ]
    },
    {
     "name": "stderr",
     "output_type": "stream",
     "text": [
      "[Parallel(n_jobs=-1)]: Using backend LokyBackend with 4 concurrent workers.\n",
      "[Parallel(n_jobs=-1)]: Done  42 tasks      | elapsed:   55.2s\n",
      "[Parallel(n_jobs=-1)]: Done 120 out of 120 | elapsed:  2.6min finished\n",
      "C:\\Users\\LAP11121-local\\Anaconda3\\lib\\site-packages\\sklearn\\linear_model\\logistic.py:947: ConvergenceWarning: lbfgs failed to converge. Increase the number of iterations.\n",
      "  \"of iterations.\", ConvergenceWarning)\n"
     ]
    },
    {
     "name": "stdout",
     "output_type": "stream",
     "text": [
      "done in 155.453s\n",
      "\n",
      "Best CV score: 0.585\n",
      "Best parameters set:\n",
      "\tclf__C: 0.5\n",
      "\tfeatures__pipe__vect__max_df: 0.25\n",
      "\tfeatures__pipe__vect__min_df: 2\n",
      "\tfeatures__pipe__vect__ngram_range: (1, 2)\n",
      "Test score with best_estimator_: 0.591\n",
      "\n",
      "\n",
      "Classification Report Test Data\n",
      "              precision    recall  f1-score   support\n",
      "\n",
      "           0       0.44      0.79      0.57       668\n",
      "           1       0.76      0.56      0.65       618\n",
      "           2       0.66      0.36      0.47       498\n",
      "           3       0.73      0.59      0.65       734\n",
      "\n",
      "    accuracy                           0.59      2518\n",
      "   macro avg       0.65      0.58      0.58      2518\n",
      "weighted avg       0.65      0.59      0.59      2518\n",
      "\n"
     ]
    }
   ],
   "source": [
    "best_logreg_tfidf = grid_vect(logreg, parameters_logreg, X_train, X_test, parameters_text=parameters_vect, vect=tfidfvect)"
   ]
  },
  {
   "cell_type": "code",
   "execution_count": 28,
   "metadata": {},
   "outputs": [
    {
     "name": "stdout",
     "output_type": "stream",
     "text": [
      "Performing grid search...\n",
      "pipeline: ['features', 'clf']\n",
      "parameters:\n",
      "{'clf__alpha': (0.001, 0.0001),\n",
      " 'clf__loss': ('hinge', 'log'),\n",
      " 'features__pipe__vect__max_df': (0.25, 0.5, 0.75),\n",
      " 'features__pipe__vect__min_df': (1, 2),\n",
      " 'features__pipe__vect__ngram_range': ((1, 1), (1, 2))}\n",
      "Fitting 5 folds for each of 48 candidates, totalling 240 fits\n"
     ]
    },
    {
     "name": "stderr",
     "output_type": "stream",
     "text": [
      "[Parallel(n_jobs=-1)]: Using backend LokyBackend with 4 concurrent workers.\n",
      "[Parallel(n_jobs=-1)]: Done  42 tasks      | elapsed:   13.0s\n",
      "[Parallel(n_jobs=-1)]: Done 192 tasks      | elapsed:   56.0s\n",
      "[Parallel(n_jobs=-1)]: Done 240 out of 240 | elapsed:  1.2min finished\n"
     ]
    },
    {
     "name": "stdout",
     "output_type": "stream",
     "text": [
      "done in 69.787s\n",
      "\n",
      "Best CV score: 0.570\n",
      "Best parameters set:\n",
      "\tclf__alpha: 0.001\n",
      "\tclf__loss: 'hinge'\n",
      "\tfeatures__pipe__vect__max_df: 0.75\n",
      "\tfeatures__pipe__vect__min_df: 1\n",
      "\tfeatures__pipe__vect__ngram_range: (1, 1)\n",
      "Test score with best_estimator_: 0.601\n",
      "\n",
      "\n",
      "Classification Report Test Data\n",
      "              precision    recall  f1-score   support\n",
      "\n",
      "           0       0.57      0.55      0.56       668\n",
      "           1       0.79      0.56      0.66       618\n",
      "           2       0.43      0.66      0.52       498\n",
      "           3       0.69      0.64      0.67       734\n",
      "\n",
      "    accuracy                           0.60      2518\n",
      "   macro avg       0.62      0.60      0.60      2518\n",
      "weighted avg       0.63      0.60      0.61      2518\n",
      "\n"
     ]
    }
   ],
   "source": [
    "best_sgd_tfidf = grid_vect(sgd, parameters_sgd, X_train, X_test, parameters_text=parameters_vect, vect=tfidfvect)"
   ]
  }
 ],
 "metadata": {
  "kernelspec": {
   "display_name": "Python 3",
   "language": "python",
   "name": "python3"
  },
  "language_info": {
   "codemirror_mode": {
    "name": "ipython",
    "version": 3
   },
   "file_extension": ".py",
   "mimetype": "text/x-python",
   "name": "python",
   "nbconvert_exporter": "python",
   "pygments_lexer": "ipython3",
   "version": "3.7.4"
  },
  "toc": {
   "base_numbering": 1,
   "nav_menu": {},
   "number_sections": true,
   "sideBar": true,
   "skip_h1_title": false,
   "title_cell": "Table of Contents",
   "title_sidebar": "Contents",
   "toc_cell": false,
   "toc_position": {},
   "toc_section_display": true,
   "toc_window_display": false
  }
 },
 "nbformat": 4,
 "nbformat_minor": 2
}
