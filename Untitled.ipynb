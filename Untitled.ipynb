{
 "cells": [
  {
   "cell_type": "code",
   "execution_count": 47,
   "metadata": {},
   "outputs": [],
   "source": [
    "from requests_html import HTMLSession\n",
    "import requests\n",
    "import json\n",
    "import time\n",
    "import pandas as pd\n",
    "import datetime as dt\n",
    "import re"
   ]
  },
  {
   "cell_type": "code",
   "execution_count": 96,
   "metadata": {},
   "outputs": [],
   "source": [
    "# HELPERS\n",
    "\n",
    "def return_none_if_empty(value):\n",
    "    result = value if value else None\n",
    "    return result\n",
    "\n",
    "def init_array():\n",
    "    images = []\n",
    "    prices = []\n",
    "    screens = []\n",
    "    os = []\n",
    "    front_cams = []\n",
    "    back_cams = []\n",
    "    cpus = []\n",
    "    rams = []\n",
    "    memories = []\n",
    "    batteries = []\n",
    "    urls = []\n",
    "    companies = []\n",
    "    \n",
    "    return (images, prices, screens, os, front_cams, back_cams, cpus, rams, memories, batteries, urls, companies)\n",
    "\n",
    "def get_tgdd_url():\n",
    "    return 'https://www.thegioididong.com/dtdd#o:1&i:10'\n",
    "\n",
    "def get_html_session(url):\n",
    "    session = HTMLSession()\n",
    "    return session.get(url)\n",
    "\n",
    "def find_first(html, query):\n",
    "    return html.find(query, first=True)\n",
    "\n",
    "def add_element_to_array(array, element):\n",
    "    return array + [return_none_if_empty(element)]\n",
    "\n",
    "def get_string_after_colon(string):\n",
    "    return get_string_after_regex(string, '.+: ')\n",
    "\n",
    "def get_string_after_regex(string, regex):\n",
    "    separator = ''\n",
    "    return separator.join(re.split(regex)[1:])\n",
    "\n"
   ]
  },
  {
   "cell_type": "code",
   "execution_count": 115,
   "metadata": {},
   "outputs": [],
   "source": [
    "def get_all_urls(out_file):\n",
    "    urls = []\n",
    "    url = get_tgdd_url()\n",
    "    \n",
    "    \n",
    "    while(len(urls) < 30):\n",
    "        urls = []\n",
    "        r = get_html_session(url)\n",
    "        html = r.html\n",
    "\n",
    "        ul = html.find('ul.homeproduct', first=True)\n",
    "        li = ul.find('li')\n",
    "        for item in li:\n",
    "            urls = add_element_to_array(urls, find_first(item, 'a').attrs['href'])\n",
    "        \n",
    "        time.sleep(1)\n",
    "        \n",
    "\n",
    "    f = open(out_file, \"w+\", encoding='utf-8')\n",
    "    f.write('\\n'.join(urls))\n",
    "    f.close()"
   ]
  },
  {
   "cell_type": "code",
   "execution_count": 92,
   "metadata": {},
   "outputs": [
    {
     "ename": "KeyboardInterrupt",
     "evalue": "",
     "output_type": "error",
     "traceback": [
      "\u001b[1;31m---------------------------------------------------------------------------\u001b[0m",
      "\u001b[1;31mKeyboardInterrupt\u001b[0m                         Traceback (most recent call last)",
      "\u001b[1;32m<ipython-input-92-5965562caa09>\u001b[0m in \u001b[0;36m<module>\u001b[1;34m()\u001b[0m\n\u001b[0;32m     31\u001b[0m \u001b[1;33m\u001b[0m\u001b[0m\n\u001b[0;32m     32\u001b[0m     \u001b[0mprint\u001b[0m\u001b[1;33m(\u001b[0m\u001b[0mimages\u001b[0m\u001b[1;33m)\u001b[0m\u001b[1;33m\u001b[0m\u001b[0m\n\u001b[1;32m---> 33\u001b[1;33m \u001b[0mget_info_tgdd\u001b[0m\u001b[1;33m(\u001b[0m\u001b[1;34m'urls_tgdd_file.txt'\u001b[0m\u001b[1;33m,\u001b[0m \u001b[1;34m''\u001b[0m\u001b[1;33m)\u001b[0m\u001b[1;33m\u001b[0m\u001b[0m\n\u001b[0m",
      "\u001b[1;32m<ipython-input-92-5965562caa09>\u001b[0m in \u001b[0;36mget_info_tgdd\u001b[1;34m(urls_file, out_file, sleep_time)\u001b[0m\n\u001b[0;32m     28\u001b[0m         \u001b[0mbatteries\u001b[0m \u001b[1;33m=\u001b[0m \u001b[0madd_element_to_array\u001b[0m\u001b[1;33m(\u001b[0m\u001b[0mbatteries\u001b[0m\u001b[1;33m,\u001b[0m \u001b[0mli\u001b[0m\u001b[1;33m[\u001b[0m\u001b[1;36m8\u001b[0m\u001b[1;33m]\u001b[0m\u001b[1;33m.\u001b[0m\u001b[0mtext\u001b[0m\u001b[1;33m)\u001b[0m\u001b[1;33m\u001b[0m\u001b[0m\n\u001b[0;32m     29\u001b[0m \u001b[1;33m\u001b[0m\u001b[0m\n\u001b[1;32m---> 30\u001b[1;33m         \u001b[0mtime\u001b[0m\u001b[1;33m.\u001b[0m\u001b[0msleep\u001b[0m\u001b[1;33m(\u001b[0m\u001b[0msleep_time\u001b[0m\u001b[1;33m)\u001b[0m\u001b[1;33m\u001b[0m\u001b[0m\n\u001b[0m\u001b[0;32m     31\u001b[0m \u001b[1;33m\u001b[0m\u001b[0m\n\u001b[0;32m     32\u001b[0m     \u001b[0mprint\u001b[0m\u001b[1;33m(\u001b[0m\u001b[0mimages\u001b[0m\u001b[1;33m)\u001b[0m\u001b[1;33m\u001b[0m\u001b[0m\n",
      "\u001b[1;31mKeyboardInterrupt\u001b[0m: "
     ]
    }
   ],
   "source": [
    "def get_info_tgdd(urls_file, out_file, sleep_time=1):\n",
    "    (images, prices, screens, os, front_cams, back_cams, cpus, rams, memories, batteries, urls, companies) = init_array()\n",
    "    \n",
    "    f = open(urls_file, 'r')\n",
    "    if f.mode == 'r':\n",
    "        contents = f.read()\n",
    "    f.close()\n",
    "    \n",
    "    domain = 'https://thegioididong.com'\n",
    "    urls = contents.split('\\n')\n",
    "    \n",
    "    for url in urls:\n",
    "        r = get_html_session(domain + url)\n",
    "        html = r.html\n",
    "        \n",
    "        images = add_element_to_array(images, find_first(html, 'aside.picture > img').attrs['src'])\n",
    "        prices = add_element_to_array(prices, find_first(html, 'aside.price_sale > div.area_price > strong').text)\n",
    "\n",
    "        li = html.find('ul.parameter > li > div')\n",
    "        \n",
    "        screens = add_element_to_array(screens, li[0].text)\n",
    "        os = add_element_to_array(os, li[1].text)\n",
    "        back_cams = add_element_to_array(back_cams, li[2].text)\n",
    "        front_cams = add_element_to_array(front_cams, li[3].text)\n",
    "        cpus = add_element_to_array(cpus, li[4].text)\n",
    "        rams = add_element_to_array(rams, li[5].text)\n",
    "        memories = add_element_to_array(memories, li[6].text)\n",
    "        batteries = add_element_to_array(batteries, li[8].text)\n",
    "        \n",
    "        print((images, prices, screens, os, front_cams, back_cams, cpus, rams, memories, batteries, companies))\n",
    "\n",
    "        \n",
    "        time.sleep(sleep_time)\n",
    "\n",
    "get_info_tgdd('urls_tgdd_file.txt', '')"
   ]
  },
  {
   "cell_type": "code",
   "execution_count": 116,
   "metadata": {},
   "outputs": [
    {
     "ename": "KeyboardInterrupt",
     "evalue": "",
     "output_type": "error",
     "traceback": [
      "\u001b[1;31m---------------------------------------------------------------------------\u001b[0m",
      "\u001b[1;31mKeyboardInterrupt\u001b[0m                         Traceback (most recent call last)",
      "\u001b[1;32m<ipython-input-116-40b5079b76a4>\u001b[0m in \u001b[0;36m<module>\u001b[1;34m()\u001b[0m\n\u001b[1;32m----> 1\u001b[1;33m \u001b[0mget_all_urls\u001b[0m\u001b[1;33m(\u001b[0m\u001b[1;34m'urls_tgdd_file.txt'\u001b[0m\u001b[1;33m)\u001b[0m\u001b[1;33m\u001b[0m\u001b[0m\n\u001b[0m",
      "\u001b[1;32m<ipython-input-115-e6f4efb58cf1>\u001b[0m in \u001b[0;36mget_all_urls\u001b[1;34m(out_file)\u001b[0m\n\u001b[0;32m     14\u001b[0m             \u001b[0murls\u001b[0m \u001b[1;33m=\u001b[0m \u001b[0madd_element_to_array\u001b[0m\u001b[1;33m(\u001b[0m\u001b[0murls\u001b[0m\u001b[1;33m,\u001b[0m \u001b[0mfind_first\u001b[0m\u001b[1;33m(\u001b[0m\u001b[0mitem\u001b[0m\u001b[1;33m,\u001b[0m \u001b[1;34m'a'\u001b[0m\u001b[1;33m)\u001b[0m\u001b[1;33m.\u001b[0m\u001b[0mattrs\u001b[0m\u001b[1;33m[\u001b[0m\u001b[1;34m'href'\u001b[0m\u001b[1;33m]\u001b[0m\u001b[1;33m)\u001b[0m\u001b[1;33m\u001b[0m\u001b[0m\n\u001b[0;32m     15\u001b[0m \u001b[1;33m\u001b[0m\u001b[0m\n\u001b[1;32m---> 16\u001b[1;33m         \u001b[0mtime\u001b[0m\u001b[1;33m.\u001b[0m\u001b[0msleep\u001b[0m\u001b[1;33m(\u001b[0m\u001b[1;36m1\u001b[0m\u001b[1;33m)\u001b[0m\u001b[1;33m\u001b[0m\u001b[0m\n\u001b[0m\u001b[0;32m     17\u001b[0m \u001b[1;33m\u001b[0m\u001b[0m\n\u001b[0;32m     18\u001b[0m \u001b[1;33m\u001b[0m\u001b[0m\n",
      "\u001b[1;31mKeyboardInterrupt\u001b[0m: "
     ]
    }
   ],
   "source": [
    "get_all_urls('urls_tgdd_file.txt')"
   ]
  }
 ],
 "metadata": {
  "kernelspec": {
   "display_name": "Python 3",
   "language": "python",
   "name": "python3"
  },
  "language_info": {
   "codemirror_mode": {
    "name": "ipython",
    "version": 3
   },
   "file_extension": ".py",
   "mimetype": "text/x-python",
   "name": "python",
   "nbconvert_exporter": "python",
   "pygments_lexer": "ipython3",
   "version": "3.6.4"
  },
  "toc": {
   "base_numbering": 1,
   "nav_menu": {},
   "number_sections": true,
   "sideBar": true,
   "skip_h1_title": false,
   "title_cell": "Table of Contents",
   "title_sidebar": "Contents",
   "toc_cell": false,
   "toc_position": {},
   "toc_section_display": true,
   "toc_window_display": false
  }
 },
 "nbformat": 4,
 "nbformat_minor": 2
}
